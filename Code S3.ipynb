{
  "cells": [
    {
      "cell_type": "code",
      "execution_count": null,
      "metadata": {
        "id": "TrcDSlqPssgN"
      },
      "outputs": [],
      "source": [
        "import pandas as pd\n",
        "import numpy as np\n",
        "import tensorflow as tf\n",
        "import matplotlib.pyplot as plt\n",
        "import seaborn as sns\n",
        "%matplotlib inline"
      ]
    },
    {
      "cell_type": "code",
      "execution_count": null,
      "metadata": {
        "colab": {
          "base_uri": "https://localhost:8080/"
        },
        "id": "qZcOnrnszb-J",
        "outputId": "5da3b62a-2a5f-4214-c5f6-c46a366a764f"
      },
      "outputs": [
        {
          "output_type": "stream",
          "name": "stdout",
          "text": [
            "2.17.1\n"
          ]
        }
      ],
      "source": [
        "print(tf.__version__)"
      ]
    },
    {
      "cell_type": "code",
      "execution_count": null,
      "metadata": {
        "id": "VV_H2KTRzpEi"
      },
      "outputs": [],
      "source": [
        "df=pd.read_csv(\"Marmara1990K_Tr100Day.csv\")"
      ]
    },
    {
      "cell_type": "code",
      "execution_count": null,
      "metadata": {
        "colab": {
          "base_uri": "https://localhost:8080/",
          "height": 399
        },
        "id": "ef95692AzpSy",
        "outputId": "4ad69e6a-6de1-46cf-e4f8-1b3b822b27af"
      },
      "outputs": [
        {
          "output_type": "execute_result",
          "data": {
            "text/plain": [
              "                  Time  Max_Magnitude  Mean_Magnitude  Std_Magnitude  \\\n",
              "0  1990-04-11 20:34:55            3.8        2.781944       0.275439   \n",
              "1  1990-04-14 05:05:04            3.8        2.783333       0.274247   \n",
              "2  1990-04-17 20:52:41            3.8        2.787671       0.274846   \n",
              "3  1990-04-18 10:18:02            3.8        2.786486       0.273147   \n",
              "4  1990-04-19 08:40:23            3.8        2.781333       0.274941   \n",
              "\n",
              "   Mean_Depth  Earthquake_Frequency  Earthquake_Numbers  Mean_Energy  \\\n",
              "0   12.208333                  0.72                  72   191.560556   \n",
              "1   12.347222                  0.72                  72   191.888889   \n",
              "2   12.260274                  0.73                  73   193.121096   \n",
              "3   12.216216                  0.74                  74   191.589595   \n",
              "4   12.306667                  0.75                  75   189.370000   \n",
              "\n",
              "   Std_Energy  Mean_b_value  Std_b_value  b_value_ratio  Total_Energy  \\\n",
              "0  396.666450      6.589861     3.986469       0.604940      13792.36   \n",
              "1  396.545203      6.702222     3.962932       0.591286      13816.00   \n",
              "2  393.922499      6.745479     3.952632       0.585968      14097.84   \n",
              "3  391.436863      6.787432     3.942021       0.580782      14177.63   \n",
              "4  389.257927      6.828267     3.931233       0.575729      14202.75   \n",
              "\n",
              "   Energy_Density  Elapsed_Time  Future_Max_Magnitude  \n",
              "0      191.560556     12.546389                   3.9  \n",
              "1      191.888889     56.502500                   3.9  \n",
              "2      193.121096     87.793611                   3.9  \n",
              "3      191.589595     13.422500                   3.9  \n",
              "4      189.370000     22.372500                   3.9  "
            ],
            "text/html": [
              "\n",
              "  <div id=\"df-e0959cf3-7f84-4c35-81a9-cb34e90b0982\" class=\"colab-df-container\">\n",
              "    <div>\n",
              "<style scoped>\n",
              "    .dataframe tbody tr th:only-of-type {\n",
              "        vertical-align: middle;\n",
              "    }\n",
              "\n",
              "    .dataframe tbody tr th {\n",
              "        vertical-align: top;\n",
              "    }\n",
              "\n",
              "    .dataframe thead th {\n",
              "        text-align: right;\n",
              "    }\n",
              "</style>\n",
              "<table border=\"1\" class=\"dataframe\">\n",
              "  <thead>\n",
              "    <tr style=\"text-align: right;\">\n",
              "      <th></th>\n",
              "      <th>Time</th>\n",
              "      <th>Max_Magnitude</th>\n",
              "      <th>Mean_Magnitude</th>\n",
              "      <th>Std_Magnitude</th>\n",
              "      <th>Mean_Depth</th>\n",
              "      <th>Earthquake_Frequency</th>\n",
              "      <th>Earthquake_Numbers</th>\n",
              "      <th>Mean_Energy</th>\n",
              "      <th>Std_Energy</th>\n",
              "      <th>Mean_b_value</th>\n",
              "      <th>Std_b_value</th>\n",
              "      <th>b_value_ratio</th>\n",
              "      <th>Total_Energy</th>\n",
              "      <th>Energy_Density</th>\n",
              "      <th>Elapsed_Time</th>\n",
              "      <th>Future_Max_Magnitude</th>\n",
              "    </tr>\n",
              "  </thead>\n",
              "  <tbody>\n",
              "    <tr>\n",
              "      <th>0</th>\n",
              "      <td>1990-04-11 20:34:55</td>\n",
              "      <td>3.8</td>\n",
              "      <td>2.781944</td>\n",
              "      <td>0.275439</td>\n",
              "      <td>12.208333</td>\n",
              "      <td>0.72</td>\n",
              "      <td>72</td>\n",
              "      <td>191.560556</td>\n",
              "      <td>396.666450</td>\n",
              "      <td>6.589861</td>\n",
              "      <td>3.986469</td>\n",
              "      <td>0.604940</td>\n",
              "      <td>13792.36</td>\n",
              "      <td>191.560556</td>\n",
              "      <td>12.546389</td>\n",
              "      <td>3.9</td>\n",
              "    </tr>\n",
              "    <tr>\n",
              "      <th>1</th>\n",
              "      <td>1990-04-14 05:05:04</td>\n",
              "      <td>3.8</td>\n",
              "      <td>2.783333</td>\n",
              "      <td>0.274247</td>\n",
              "      <td>12.347222</td>\n",
              "      <td>0.72</td>\n",
              "      <td>72</td>\n",
              "      <td>191.888889</td>\n",
              "      <td>396.545203</td>\n",
              "      <td>6.702222</td>\n",
              "      <td>3.962932</td>\n",
              "      <td>0.591286</td>\n",
              "      <td>13816.00</td>\n",
              "      <td>191.888889</td>\n",
              "      <td>56.502500</td>\n",
              "      <td>3.9</td>\n",
              "    </tr>\n",
              "    <tr>\n",
              "      <th>2</th>\n",
              "      <td>1990-04-17 20:52:41</td>\n",
              "      <td>3.8</td>\n",
              "      <td>2.787671</td>\n",
              "      <td>0.274846</td>\n",
              "      <td>12.260274</td>\n",
              "      <td>0.73</td>\n",
              "      <td>73</td>\n",
              "      <td>193.121096</td>\n",
              "      <td>393.922499</td>\n",
              "      <td>6.745479</td>\n",
              "      <td>3.952632</td>\n",
              "      <td>0.585968</td>\n",
              "      <td>14097.84</td>\n",
              "      <td>193.121096</td>\n",
              "      <td>87.793611</td>\n",
              "      <td>3.9</td>\n",
              "    </tr>\n",
              "    <tr>\n",
              "      <th>3</th>\n",
              "      <td>1990-04-18 10:18:02</td>\n",
              "      <td>3.8</td>\n",
              "      <td>2.786486</td>\n",
              "      <td>0.273147</td>\n",
              "      <td>12.216216</td>\n",
              "      <td>0.74</td>\n",
              "      <td>74</td>\n",
              "      <td>191.589595</td>\n",
              "      <td>391.436863</td>\n",
              "      <td>6.787432</td>\n",
              "      <td>3.942021</td>\n",
              "      <td>0.580782</td>\n",
              "      <td>14177.63</td>\n",
              "      <td>191.589595</td>\n",
              "      <td>13.422500</td>\n",
              "      <td>3.9</td>\n",
              "    </tr>\n",
              "    <tr>\n",
              "      <th>4</th>\n",
              "      <td>1990-04-19 08:40:23</td>\n",
              "      <td>3.8</td>\n",
              "      <td>2.781333</td>\n",
              "      <td>0.274941</td>\n",
              "      <td>12.306667</td>\n",
              "      <td>0.75</td>\n",
              "      <td>75</td>\n",
              "      <td>189.370000</td>\n",
              "      <td>389.257927</td>\n",
              "      <td>6.828267</td>\n",
              "      <td>3.931233</td>\n",
              "      <td>0.575729</td>\n",
              "      <td>14202.75</td>\n",
              "      <td>189.370000</td>\n",
              "      <td>22.372500</td>\n",
              "      <td>3.9</td>\n",
              "    </tr>\n",
              "  </tbody>\n",
              "</table>\n",
              "</div>\n",
              "    <div class=\"colab-df-buttons\">\n",
              "\n",
              "  <div class=\"colab-df-container\">\n",
              "    <button class=\"colab-df-convert\" onclick=\"convertToInteractive('df-e0959cf3-7f84-4c35-81a9-cb34e90b0982')\"\n",
              "            title=\"Convert this dataframe to an interactive table.\"\n",
              "            style=\"display:none;\">\n",
              "\n",
              "  <svg xmlns=\"http://www.w3.org/2000/svg\" height=\"24px\" viewBox=\"0 -960 960 960\">\n",
              "    <path d=\"M120-120v-720h720v720H120Zm60-500h600v-160H180v160Zm220 220h160v-160H400v160Zm0 220h160v-160H400v160ZM180-400h160v-160H180v160Zm440 0h160v-160H620v160ZM180-180h160v-160H180v160Zm440 0h160v-160H620v160Z\"/>\n",
              "  </svg>\n",
              "    </button>\n",
              "\n",
              "  <style>\n",
              "    .colab-df-container {\n",
              "      display:flex;\n",
              "      gap: 12px;\n",
              "    }\n",
              "\n",
              "    .colab-df-convert {\n",
              "      background-color: #E8F0FE;\n",
              "      border: none;\n",
              "      border-radius: 50%;\n",
              "      cursor: pointer;\n",
              "      display: none;\n",
              "      fill: #1967D2;\n",
              "      height: 32px;\n",
              "      padding: 0 0 0 0;\n",
              "      width: 32px;\n",
              "    }\n",
              "\n",
              "    .colab-df-convert:hover {\n",
              "      background-color: #E2EBFA;\n",
              "      box-shadow: 0px 1px 2px rgba(60, 64, 67, 0.3), 0px 1px 3px 1px rgba(60, 64, 67, 0.15);\n",
              "      fill: #174EA6;\n",
              "    }\n",
              "\n",
              "    .colab-df-buttons div {\n",
              "      margin-bottom: 4px;\n",
              "    }\n",
              "\n",
              "    [theme=dark] .colab-df-convert {\n",
              "      background-color: #3B4455;\n",
              "      fill: #D2E3FC;\n",
              "    }\n",
              "\n",
              "    [theme=dark] .colab-df-convert:hover {\n",
              "      background-color: #434B5C;\n",
              "      box-shadow: 0px 1px 3px 1px rgba(0, 0, 0, 0.15);\n",
              "      filter: drop-shadow(0px 1px 2px rgba(0, 0, 0, 0.3));\n",
              "      fill: #FFFFFF;\n",
              "    }\n",
              "  </style>\n",
              "\n",
              "    <script>\n",
              "      const buttonEl =\n",
              "        document.querySelector('#df-e0959cf3-7f84-4c35-81a9-cb34e90b0982 button.colab-df-convert');\n",
              "      buttonEl.style.display =\n",
              "        google.colab.kernel.accessAllowed ? 'block' : 'none';\n",
              "\n",
              "      async function convertToInteractive(key) {\n",
              "        const element = document.querySelector('#df-e0959cf3-7f84-4c35-81a9-cb34e90b0982');\n",
              "        const dataTable =\n",
              "          await google.colab.kernel.invokeFunction('convertToInteractive',\n",
              "                                                    [key], {});\n",
              "        if (!dataTable) return;\n",
              "\n",
              "        const docLinkHtml = 'Like what you see? Visit the ' +\n",
              "          '<a target=\"_blank\" href=https://colab.research.google.com/notebooks/data_table.ipynb>data table notebook</a>'\n",
              "          + ' to learn more about interactive tables.';\n",
              "        element.innerHTML = '';\n",
              "        dataTable['output_type'] = 'display_data';\n",
              "        await google.colab.output.renderOutput(dataTable, element);\n",
              "        const docLink = document.createElement('div');\n",
              "        docLink.innerHTML = docLinkHtml;\n",
              "        element.appendChild(docLink);\n",
              "      }\n",
              "    </script>\n",
              "  </div>\n",
              "\n",
              "\n",
              "<div id=\"df-5369d20a-6200-4b76-a781-fdc01dab43bc\">\n",
              "  <button class=\"colab-df-quickchart\" onclick=\"quickchart('df-5369d20a-6200-4b76-a781-fdc01dab43bc')\"\n",
              "            title=\"Suggest charts\"\n",
              "            style=\"display:none;\">\n",
              "\n",
              "<svg xmlns=\"http://www.w3.org/2000/svg\" height=\"24px\"viewBox=\"0 0 24 24\"\n",
              "     width=\"24px\">\n",
              "    <g>\n",
              "        <path d=\"M19 3H5c-1.1 0-2 .9-2 2v14c0 1.1.9 2 2 2h14c1.1 0 2-.9 2-2V5c0-1.1-.9-2-2-2zM9 17H7v-7h2v7zm4 0h-2V7h2v10zm4 0h-2v-4h2v4z\"/>\n",
              "    </g>\n",
              "</svg>\n",
              "  </button>\n",
              "\n",
              "<style>\n",
              "  .colab-df-quickchart {\n",
              "      --bg-color: #E8F0FE;\n",
              "      --fill-color: #1967D2;\n",
              "      --hover-bg-color: #E2EBFA;\n",
              "      --hover-fill-color: #174EA6;\n",
              "      --disabled-fill-color: #AAA;\n",
              "      --disabled-bg-color: #DDD;\n",
              "  }\n",
              "\n",
              "  [theme=dark] .colab-df-quickchart {\n",
              "      --bg-color: #3B4455;\n",
              "      --fill-color: #D2E3FC;\n",
              "      --hover-bg-color: #434B5C;\n",
              "      --hover-fill-color: #FFFFFF;\n",
              "      --disabled-bg-color: #3B4455;\n",
              "      --disabled-fill-color: #666;\n",
              "  }\n",
              "\n",
              "  .colab-df-quickchart {\n",
              "    background-color: var(--bg-color);\n",
              "    border: none;\n",
              "    border-radius: 50%;\n",
              "    cursor: pointer;\n",
              "    display: none;\n",
              "    fill: var(--fill-color);\n",
              "    height: 32px;\n",
              "    padding: 0;\n",
              "    width: 32px;\n",
              "  }\n",
              "\n",
              "  .colab-df-quickchart:hover {\n",
              "    background-color: var(--hover-bg-color);\n",
              "    box-shadow: 0 1px 2px rgba(60, 64, 67, 0.3), 0 1px 3px 1px rgba(60, 64, 67, 0.15);\n",
              "    fill: var(--button-hover-fill-color);\n",
              "  }\n",
              "\n",
              "  .colab-df-quickchart-complete:disabled,\n",
              "  .colab-df-quickchart-complete:disabled:hover {\n",
              "    background-color: var(--disabled-bg-color);\n",
              "    fill: var(--disabled-fill-color);\n",
              "    box-shadow: none;\n",
              "  }\n",
              "\n",
              "  .colab-df-spinner {\n",
              "    border: 2px solid var(--fill-color);\n",
              "    border-color: transparent;\n",
              "    border-bottom-color: var(--fill-color);\n",
              "    animation:\n",
              "      spin 1s steps(1) infinite;\n",
              "  }\n",
              "\n",
              "  @keyframes spin {\n",
              "    0% {\n",
              "      border-color: transparent;\n",
              "      border-bottom-color: var(--fill-color);\n",
              "      border-left-color: var(--fill-color);\n",
              "    }\n",
              "    20% {\n",
              "      border-color: transparent;\n",
              "      border-left-color: var(--fill-color);\n",
              "      border-top-color: var(--fill-color);\n",
              "    }\n",
              "    30% {\n",
              "      border-color: transparent;\n",
              "      border-left-color: var(--fill-color);\n",
              "      border-top-color: var(--fill-color);\n",
              "      border-right-color: var(--fill-color);\n",
              "    }\n",
              "    40% {\n",
              "      border-color: transparent;\n",
              "      border-right-color: var(--fill-color);\n",
              "      border-top-color: var(--fill-color);\n",
              "    }\n",
              "    60% {\n",
              "      border-color: transparent;\n",
              "      border-right-color: var(--fill-color);\n",
              "    }\n",
              "    80% {\n",
              "      border-color: transparent;\n",
              "      border-right-color: var(--fill-color);\n",
              "      border-bottom-color: var(--fill-color);\n",
              "    }\n",
              "    90% {\n",
              "      border-color: transparent;\n",
              "      border-bottom-color: var(--fill-color);\n",
              "    }\n",
              "  }\n",
              "</style>\n",
              "\n",
              "  <script>\n",
              "    async function quickchart(key) {\n",
              "      const quickchartButtonEl =\n",
              "        document.querySelector('#' + key + ' button');\n",
              "      quickchartButtonEl.disabled = true;  // To prevent multiple clicks.\n",
              "      quickchartButtonEl.classList.add('colab-df-spinner');\n",
              "      try {\n",
              "        const charts = await google.colab.kernel.invokeFunction(\n",
              "            'suggestCharts', [key], {});\n",
              "      } catch (error) {\n",
              "        console.error('Error during call to suggestCharts:', error);\n",
              "      }\n",
              "      quickchartButtonEl.classList.remove('colab-df-spinner');\n",
              "      quickchartButtonEl.classList.add('colab-df-quickchart-complete');\n",
              "    }\n",
              "    (() => {\n",
              "      let quickchartButtonEl =\n",
              "        document.querySelector('#df-5369d20a-6200-4b76-a781-fdc01dab43bc button');\n",
              "      quickchartButtonEl.style.display =\n",
              "        google.colab.kernel.accessAllowed ? 'block' : 'none';\n",
              "    })();\n",
              "  </script>\n",
              "</div>\n",
              "\n",
              "    </div>\n",
              "  </div>\n"
            ],
            "application/vnd.google.colaboratory.intrinsic+json": {
              "type": "dataframe",
              "variable_name": "Marmara1990K_Tr100Day",
              "summary": "{\n  \"name\": \"Marmara1990K_Tr100Day\",\n  \"rows\": 18685,\n  \"fields\": [\n    {\n      \"column\": \"Time\",\n      \"properties\": {\n        \"dtype\": \"object\",\n        \"num_unique_values\": 18685,\n        \"samples\": [\n          \"2017-04-13 15:57:37\",\n          \"2003-11-29 17:29:46\",\n          \"2022-11-24 21:54:13\"\n        ],\n        \"semantic_type\": \"\",\n        \"description\": \"\"\n      }\n    },\n    {\n      \"column\": \"Max_Magnitude\",\n      \"properties\": {\n        \"dtype\": \"number\",\n        \"std\": 1.0550587275423837,\n        \"min\": 3.2,\n        \"max\": 7.4,\n        \"num_unique_values\": 27,\n        \"samples\": [\n          3.7,\n          3.3,\n          3.5\n        ],\n        \"semantic_type\": \"\",\n        \"description\": \"\"\n      }\n    },\n    {\n      \"column\": \"Mean_Magnitude\",\n      \"properties\": {\n        \"dtype\": \"number\",\n        \"std\": 0.20519894450578866,\n        \"min\": 2.2671875,\n        \"max\": 3.224514563106796,\n        \"num_unique_values\": 16201,\n        \"samples\": [\n          2.5682464454976306,\n          2.83,\n          2.750704225352113\n        ],\n        \"semantic_type\": \"\",\n        \"description\": \"\"\n      }\n    },\n    {\n      \"column\": \"Std_Magnitude\",\n      \"properties\": {\n        \"dtype\": \"number\",\n        \"std\": 0.11749153555538766,\n        \"min\": 0.1758318278445866,\n        \"max\": 0.7494855011928224,\n        \"num_unique_values\": 18377,\n        \"samples\": [\n          0.2643664591510464,\n          0.3330394249582902,\n          0.3846701884032005\n        ],\n        \"semantic_type\": \"\",\n        \"description\": \"\"\n      }\n    },\n    {\n      \"column\": \"Mean_Depth\",\n      \"properties\": {\n        \"dtype\": \"number\",\n        \"std\": 1.1793466192098425,\n        \"min\": 7.784313725490196,\n        \"max\": 15.489320388349515,\n        \"num_unique_values\": 16959,\n        \"samples\": [\n          9.070821529745045,\n          8.906032482598608,\n          10.05906432748538\n        ],\n        \"semantic_type\": \"\",\n        \"description\": \"\"\n      }\n    },\n    {\n      \"column\": \"Earthquake_Frequency\",\n      \"properties\": {\n        \"dtype\": \"number\",\n        \"std\": 1.3547198924587578,\n        \"min\": 0.43,\n        \"max\": 8.62,\n        \"num_unique_values\": 820,\n        \"samples\": [\n          6.88,\n          3.8,\n          1.39\n        ],\n        \"semantic_type\": \"\",\n        \"description\": \"\"\n      }\n    },\n    {\n      \"column\": \"Earthquake_Numbers\",\n      \"properties\": {\n        \"dtype\": \"number\",\n        \"std\": 135,\n        \"min\": 43,\n        \"max\": 862,\n        \"num_unique_values\": 820,\n        \"samples\": [\n          688,\n          380,\n          139\n        ],\n        \"semantic_type\": \"\",\n        \"description\": \"\"\n      }\n    },\n    {\n      \"column\": \"Mean_Energy\",\n      \"properties\": {\n        \"dtype\": \"number\",\n        \"std\": 472556.8687035704,\n        \"min\": 49.26222222222222,\n        \"max\": 4911657.066666666,\n        \"num_unique_values\": 18378,\n        \"samples\": [\n          198.7524183006536,\n          227.9609523809524,\n          1804.872244094488\n        ],\n        \"semantic_type\": \"\",\n        \"description\": \"\"\n      }\n    },\n    {\n      \"column\": \"Std_Energy\",\n      \"properties\": {\n        \"dtype\": \"number\",\n        \"std\": 8565086.909469295,\n        \"min\": 57.10451655414562,\n        \"max\": 62408310.23524013,\n        \"num_unique_values\": 18322,\n        \"samples\": [\n          23300.540460739423,\n          2625.217181244626,\n          596.7003054691336\n        ],\n        \"semantic_type\": \"\",\n        \"description\": \"\"\n      }\n    },\n    {\n      \"column\": \"Mean_b_value\",\n      \"properties\": {\n        \"dtype\": \"number\",\n        \"std\": 2.8259222078791977,\n        \"min\": 1.166904761904762,\n        \"max\": 9.9121359223301,\n        \"num_unique_values\": 18545,\n        \"samples\": [\n          1.931794871794872,\n          1.4589855072463769,\n          1.823048433048433\n        ],\n        \"semantic_type\": \"\",\n        \"description\": \"\"\n      }\n    },\n    {\n      \"column\": \"Std_b_value\",\n      \"properties\": {\n        \"dtype\": \"number\",\n        \"std\": 1.5793829839253974,\n        \"min\": 0.0,\n        \"max\": 4.29988882182981,\n        \"num_unique_values\": 18633,\n        \"samples\": [\n          0.1068488528696802,\n          3.7527363727516407,\n          0.0495357807533727\n        ],\n        \"semantic_type\": \"\",\n        \"description\": \"\"\n      }\n    },\n    {\n      \"column\": \"b_value_ratio\",\n      \"properties\": {\n        \"dtype\": \"number\",\n        \"std\": 0.3143539783482647,\n        \"min\": 0.0,\n        \"max\": 1.191652885120097,\n        \"num_unique_values\": 18626,\n        \"samples\": [\n          0.8625685411703425,\n          0.1912027263596744,\n          0.0893678060895393\n        ],\n        \"semantic_type\": \"\",\n        \"description\": \"\"\n      }\n    },\n    {\n      \"column\": \"Total_Energy\",\n      \"properties\": {\n        \"dtype\": \"number\",\n        \"std\": 193646100.84738803,\n        \"min\": 3446.28,\n        \"max\": 1205192684.7200005,\n        \"num_unique_values\": 18360,\n        \"samples\": [\n          43708.51,\n          19116.42,\n          9685.35\n        ],\n        \"semantic_type\": \"\",\n        \"description\": \"\"\n      }\n    },\n    {\n      \"column\": \"Energy_Density\",\n      \"properties\": {\n        \"dtype\": \"number\",\n        \"std\": 472556.8687035704,\n        \"min\": 49.26222222222222,\n        \"max\": 4911657.066666666,\n        \"num_unique_values\": 18378,\n        \"samples\": [\n          198.7524183006536,\n          227.9609523809524,\n          1804.872244094488\n        ],\n        \"semantic_type\": \"\",\n        \"description\": \"\"\n      }\n    },\n    {\n      \"column\": \"Elapsed_Time\",\n      \"properties\": {\n        \"dtype\": \"number\",\n        \"std\": 23.78093114492008,\n        \"min\": 0.0027777777777777,\n        \"max\": 311.5572222222222,\n        \"num_unique_values\": 16039,\n        \"samples\": [\n          0.3811111111111111,\n          35.858333333333334,\n          5.961944444444445\n        ],\n        \"semantic_type\": \"\",\n        \"description\": \"\"\n      }\n    },\n    {\n      \"column\": \"Future_Max_Magnitude\",\n      \"properties\": {\n        \"dtype\": \"number\",\n        \"std\": 0.852832925463186,\n        \"min\": 3.2,\n        \"max\": 7.4,\n        \"num_unique_values\": 28,\n        \"samples\": [\n          3.5,\n          6.8,\n          3.7\n        ],\n        \"semantic_type\": \"\",\n        \"description\": \"\"\n      }\n    }\n  ]\n}"
            }
          },
          "metadata": {},
          "execution_count": 4
        }
      ],
      "source": [
        "Marmara1990K_Tr100Day= df\n",
        "Marmara1990K_Tr100Day.head()\n"
      ]
    },
    {
      "cell_type": "code",
      "execution_count": null,
      "metadata": {
        "colab": {
          "base_uri": "https://localhost:8080/"
        },
        "id": "x_J-caVMzzQS",
        "outputId": "44aa6bad-f681-4de9-9fb7-0e36567af4a8"
      },
      "outputs": [
        {
          "output_type": "execute_result",
          "data": {
            "text/plain": [
              "(18685, 16)"
            ]
          },
          "metadata": {},
          "execution_count": 5
        }
      ],
      "source": [
        "Marmara1990K_Tr100Day.shape"
      ]
    },
    {
      "cell_type": "code",
      "execution_count": null,
      "metadata": {
        "colab": {
          "base_uri": "https://localhost:8080/"
        },
        "id": "VMzEuTWc0IcN",
        "outputId": "e340d874-cf12-4d4b-c04f-bae82d646312"
      },
      "outputs": [
        {
          "output_type": "stream",
          "name": "stdout",
          "text": [
            "<class 'pandas.core.frame.DataFrame'>\n",
            "RangeIndex: 18685 entries, 0 to 18684\n",
            "Data columns (total 16 columns):\n",
            " #   Column                Non-Null Count  Dtype  \n",
            "---  ------                --------------  -----  \n",
            " 0   Time                  18685 non-null  object \n",
            " 1   Max_Magnitude         18685 non-null  float64\n",
            " 2   Mean_Magnitude        18685 non-null  float64\n",
            " 3   Std_Magnitude         18685 non-null  float64\n",
            " 4   Mean_Depth            18685 non-null  float64\n",
            " 5   Earthquake_Frequency  18685 non-null  float64\n",
            " 6   Earthquake_Numbers    18685 non-null  int64  \n",
            " 7   Mean_Energy           18685 non-null  float64\n",
            " 8   Std_Energy            18685 non-null  float64\n",
            " 9   Mean_b_value          18685 non-null  float64\n",
            " 10  Std_b_value           18685 non-null  float64\n",
            " 11  b_value_ratio         18685 non-null  float64\n",
            " 12  Total_Energy          18685 non-null  float64\n",
            " 13  Energy_Density        18685 non-null  float64\n",
            " 14  Elapsed_Time          18685 non-null  float64\n",
            " 15  Future_Max_Magnitude  18685 non-null  float64\n",
            "dtypes: float64(14), int64(1), object(1)\n",
            "memory usage: 2.3+ MB\n"
          ]
        }
      ],
      "source": [
        "Marmara1990K_Tr100Day.info()"
      ]
    },
    {
      "cell_type": "code",
      "execution_count": null,
      "metadata": {
        "id": "JJ97E4OxBlOa"
      },
      "outputs": [],
      "source": [
        "X = Marmara1990K_Tr100Day.iloc[:, 1:14].values\n",
        "\n",
        "y = Marmara1990K_Tr100Day.iloc[:,15].values"
      ]
    },
    {
      "cell_type": "code",
      "execution_count": null,
      "metadata": {
        "colab": {
          "base_uri": "https://localhost:8080/"
        },
        "id": "LQlGWkdQ3NXt",
        "outputId": "d109c8d9-00ea-488a-e9a3-f24facc2864f"
      },
      "outputs": [
        {
          "output_type": "execute_result",
          "data": {
            "text/plain": [
              "array([[3.80000000e+00, 2.78194444e+00, 2.75438901e-01, ...,\n",
              "        6.04939735e-01, 1.37923600e+04, 1.91560556e+02],\n",
              "       [3.80000000e+00, 2.78333333e+00, 2.74246728e-01, ...,\n",
              "        5.91286250e-01, 1.38160000e+04, 1.91888889e+02],\n",
              "       [3.80000000e+00, 2.78767123e+00, 2.74846020e-01, ...,\n",
              "        5.85967599e-01, 1.40978400e+04, 1.93121096e+02],\n",
              "       ...,\n",
              "       [4.00000000e+00, 2.41456311e+00, 4.49271255e-01, ...,\n",
              "        2.10752826e-01, 2.06790100e+04, 2.00767087e+02],\n",
              "       [4.00000000e+00, 2.41456311e+00, 4.49271255e-01, ...,\n",
              "        2.10546241e-01, 2.06790100e+04, 2.00767087e+02],\n",
              "       [4.00000000e+00, 2.41274510e+00, 4.47140877e-01, ...,\n",
              "        2.10942522e-01, 2.05491400e+04, 2.01462157e+02]])"
            ]
          },
          "metadata": {},
          "execution_count": 8
        }
      ],
      "source": [
        "X"
      ]
    },
    {
      "cell_type": "code",
      "execution_count": null,
      "metadata": {
        "colab": {
          "base_uri": "https://localhost:8080/"
        },
        "id": "3-RyWhx03Ney",
        "outputId": "94321d4f-8567-4dc2-ac72-0ca7975cba01"
      },
      "outputs": [
        {
          "output_type": "execute_result",
          "data": {
            "text/plain": [
              "array([3.9, 3.9, 3.9, ..., 4.3, 4.3, 4.3])"
            ]
          },
          "metadata": {},
          "execution_count": 9
        }
      ],
      "source": [
        "y"
      ]
    },
    {
      "cell_type": "code",
      "execution_count": null,
      "metadata": {
        "id": "QjDP8FddJvVz"
      },
      "outputs": [],
      "source": [
        "from sklearn.model_selection import train_test_split\n",
        "X_train, X_test, y_train, y_test = train_test_split(X, y)"
      ]
    },
    {
      "cell_type": "code",
      "execution_count": null,
      "metadata": {
        "id": "iCkIrmgpJ-JH"
      },
      "outputs": [],
      "source": [
        "from sklearn.preprocessing import StandardScaler\n",
        "sc = StandardScaler() # Create an instance of StandardScaler\n",
        "X_train = sc.fit_transform(X_train)\n",
        "X_test = sc.transform(X_test)"
      ]
    },
    {
      "cell_type": "code",
      "execution_count": null,
      "metadata": {
        "colab": {
          "base_uri": "https://localhost:8080/"
        },
        "id": "lNqVdi8eJ-D7",
        "outputId": "62c0da24-2ac9-4e26-d9d6-408355bc15dc"
      },
      "outputs": [
        {
          "output_type": "execute_result",
          "data": {
            "text/plain": [
              "array([[-0.20081078, -0.07919316, -0.16980356, ..., -1.12933019,\n",
              "        -0.28368406, -0.26224387],\n",
              "       [-0.48508759,  0.30661947, -0.67789598, ..., -0.21253093,\n",
              "        -0.28373323, -0.26230089],\n",
              "       [-0.95888227,  0.66955981, -1.53681301, ..., -0.04776695,\n",
              "        -0.28384658, -0.26242407],\n",
              "       ...,\n",
              "       [ 1.50485009, -1.02112144,  1.72098221, ..., -0.99525463,\n",
              "        -0.2373535 , -0.15670899],\n",
              "       [-0.86412333, -0.0969312 , -0.8539638 , ...,  0.64250642,\n",
              "        -0.2838529 , -0.26250643],\n",
              "       [-0.39032865,  0.67199105, -0.82483044, ..., -0.30421243,\n",
              "        -0.28372047, -0.26219018]])"
            ]
          },
          "metadata": {},
          "execution_count": 12
        }
      ],
      "source": [
        "X_train"
      ]
    },
    {
      "cell_type": "code",
      "execution_count": null,
      "metadata": {
        "colab": {
          "base_uri": "https://localhost:8080/"
        },
        "id": "OyVsViwXJ9wO",
        "outputId": "0030f62c-35b7-4a9e-ae67-f4a08848f08d"
      },
      "outputs": [
        {
          "output_type": "execute_result",
          "data": {
            "text/plain": [
              "array([[-0.48508759, -0.04938928, -0.7638089 , ...,  1.39743435,\n",
              "        -0.28375447, -0.26240815],\n",
              "       [ 2.16816265, -0.10743901,  1.97493634, ...,  0.66344513,\n",
              "         0.75110164,  1.14298933],\n",
              "       [-0.29556971, -0.8554404 ,  1.43249008, ..., -0.5745475 ,\n",
              "        -0.28359667, -0.2617405 ],\n",
              "       ...,\n",
              "       [-0.10605184,  0.33699246, -0.70516203, ..., -0.68729281,\n",
              "        -0.28353711, -0.26202075],\n",
              "       [ 0.27298391,  0.7350752 , -0.11128434, ...,  0.76562987,\n",
              "        -0.28275777, -0.25869607],\n",
              "       [-0.67460546, -1.52977507,  0.32669332, ..., -0.77905542,\n",
              "        -0.28390214, -0.26250548]])"
            ]
          },
          "metadata": {},
          "execution_count": 13
        }
      ],
      "source": [
        "X_test"
      ]
    },
    {
      "cell_type": "code",
      "execution_count": null,
      "metadata": {
        "id": "hufzqJmK4cmE"
      },
      "outputs": [],
      "source": [
        "from tensorflow.keras.layers import Input, Dense, Activation,Dropout\n",
        "from tensorflow.keras.models import Model"
      ]
    },
    {
      "cell_type": "code",
      "execution_count": null,
      "metadata": {
        "id": "Kt622GZ64dsN"
      },
      "outputs": [],
      "source": [
        "input_layer = Input(shape=(X.shape[1],))\n",
        "dense_layer_1 = Dense(256, activation='relu')(input_layer)\n",
        "dense_layer_2 = Dense(128, activation='relu')(dense_layer_1)\n",
        "dense_layer_3 = Dense(64, activation='relu')(dense_layer_2)\n",
        "dense_layer_4 = Dense(32, activation='relu')(dense_layer_3)\n",
        "output = Dense(1)(dense_layer_4)\n",
        "model = Model(inputs=input_layer, outputs=output)\n",
        "model.compile(loss=\"mean_squared_error\" , optimizer=\"adam\", metrics=[\"mean_squared_error\"])"
      ]
    },
    {
      "cell_type": "code",
      "execution_count": null,
      "metadata": {
        "id": "olVeimo04wSv"
      },
      "outputs": [],
      "source": [
        "my_model = model"
      ]
    },
    {
      "cell_type": "code",
      "execution_count": null,
      "metadata": {
        "colab": {
          "base_uri": "https://localhost:8080/",
          "height": 344
        },
        "id": "HbKkNyG54zLv",
        "outputId": "85a72b31-092e-4cfd-f0bc-cf449e908d2d"
      },
      "outputs": [
        {
          "output_type": "display_data",
          "data": {
            "text/plain": [
              "\u001b[1mModel: \"functional_4\"\u001b[0m\n"
            ],
            "text/html": [
              "<pre style=\"white-space:pre;overflow-x:auto;line-height:normal;font-family:Menlo,'DejaVu Sans Mono',consolas,'Courier New',monospace\"><span style=\"font-weight: bold\">Model: \"functional_4\"</span>\n",
              "</pre>\n"
            ]
          },
          "metadata": {}
        },
        {
          "output_type": "display_data",
          "data": {
            "text/plain": [
              "┏━━━━━━━━━━━━━━━━━━━━━━━━━━━━━━━━━━━━━━┳━━━━━━━━━━━━━━━━━━━━━━━━━━━━━┳━━━━━━━━━━━━━━━━━┓\n",
              "┃\u001b[1m \u001b[0m\u001b[1mLayer (type)                        \u001b[0m\u001b[1m \u001b[0m┃\u001b[1m \u001b[0m\u001b[1mOutput Shape               \u001b[0m\u001b[1m \u001b[0m┃\u001b[1m \u001b[0m\u001b[1m        Param #\u001b[0m\u001b[1m \u001b[0m┃\n",
              "┡━━━━━━━━━━━━━━━━━━━━━━━━━━━━━━━━━━━━━━╇━━━━━━━━━━━━━━━━━━━━━━━━━━━━━╇━━━━━━━━━━━━━━━━━┩\n",
              "│ input_layer_4 (\u001b[38;5;33mInputLayer\u001b[0m)           │ (\u001b[38;5;45mNone\u001b[0m, \u001b[38;5;34m13\u001b[0m)                  │               \u001b[38;5;34m0\u001b[0m │\n",
              "├──────────────────────────────────────┼─────────────────────────────┼─────────────────┤\n",
              "│ dense_20 (\u001b[38;5;33mDense\u001b[0m)                     │ (\u001b[38;5;45mNone\u001b[0m, \u001b[38;5;34m256\u001b[0m)                 │           \u001b[38;5;34m3,584\u001b[0m │\n",
              "├──────────────────────────────────────┼─────────────────────────────┼─────────────────┤\n",
              "│ dense_21 (\u001b[38;5;33mDense\u001b[0m)                     │ (\u001b[38;5;45mNone\u001b[0m, \u001b[38;5;34m128\u001b[0m)                 │          \u001b[38;5;34m32,896\u001b[0m │\n",
              "├──────────────────────────────────────┼─────────────────────────────┼─────────────────┤\n",
              "│ dense_22 (\u001b[38;5;33mDense\u001b[0m)                     │ (\u001b[38;5;45mNone\u001b[0m, \u001b[38;5;34m64\u001b[0m)                  │           \u001b[38;5;34m8,256\u001b[0m │\n",
              "├──────────────────────────────────────┼─────────────────────────────┼─────────────────┤\n",
              "│ dense_23 (\u001b[38;5;33mDense\u001b[0m)                     │ (\u001b[38;5;45mNone\u001b[0m, \u001b[38;5;34m32\u001b[0m)                  │           \u001b[38;5;34m2,080\u001b[0m │\n",
              "├──────────────────────────────────────┼─────────────────────────────┼─────────────────┤\n",
              "│ dense_24 (\u001b[38;5;33mDense\u001b[0m)                     │ (\u001b[38;5;45mNone\u001b[0m, \u001b[38;5;34m1\u001b[0m)                   │              \u001b[38;5;34m33\u001b[0m │\n",
              "└──────────────────────────────────────┴─────────────────────────────┴─────────────────┘\n"
            ],
            "text/html": [
              "<pre style=\"white-space:pre;overflow-x:auto;line-height:normal;font-family:Menlo,'DejaVu Sans Mono',consolas,'Courier New',monospace\">┏━━━━━━━━━━━━━━━━━━━━━━━━━━━━━━━━━━━━━━┳━━━━━━━━━━━━━━━━━━━━━━━━━━━━━┳━━━━━━━━━━━━━━━━━┓\n",
              "┃<span style=\"font-weight: bold\"> Layer (type)                         </span>┃<span style=\"font-weight: bold\"> Output Shape                </span>┃<span style=\"font-weight: bold\">         Param # </span>┃\n",
              "┡━━━━━━━━━━━━━━━━━━━━━━━━━━━━━━━━━━━━━━╇━━━━━━━━━━━━━━━━━━━━━━━━━━━━━╇━━━━━━━━━━━━━━━━━┩\n",
              "│ input_layer_4 (<span style=\"color: #0087ff; text-decoration-color: #0087ff\">InputLayer</span>)           │ (<span style=\"color: #00d7ff; text-decoration-color: #00d7ff\">None</span>, <span style=\"color: #00af00; text-decoration-color: #00af00\">13</span>)                  │               <span style=\"color: #00af00; text-decoration-color: #00af00\">0</span> │\n",
              "├──────────────────────────────────────┼─────────────────────────────┼─────────────────┤\n",
              "│ dense_20 (<span style=\"color: #0087ff; text-decoration-color: #0087ff\">Dense</span>)                     │ (<span style=\"color: #00d7ff; text-decoration-color: #00d7ff\">None</span>, <span style=\"color: #00af00; text-decoration-color: #00af00\">256</span>)                 │           <span style=\"color: #00af00; text-decoration-color: #00af00\">3,584</span> │\n",
              "├──────────────────────────────────────┼─────────────────────────────┼─────────────────┤\n",
              "│ dense_21 (<span style=\"color: #0087ff; text-decoration-color: #0087ff\">Dense</span>)                     │ (<span style=\"color: #00d7ff; text-decoration-color: #00d7ff\">None</span>, <span style=\"color: #00af00; text-decoration-color: #00af00\">128</span>)                 │          <span style=\"color: #00af00; text-decoration-color: #00af00\">32,896</span> │\n",
              "├──────────────────────────────────────┼─────────────────────────────┼─────────────────┤\n",
              "│ dense_22 (<span style=\"color: #0087ff; text-decoration-color: #0087ff\">Dense</span>)                     │ (<span style=\"color: #00d7ff; text-decoration-color: #00d7ff\">None</span>, <span style=\"color: #00af00; text-decoration-color: #00af00\">64</span>)                  │           <span style=\"color: #00af00; text-decoration-color: #00af00\">8,256</span> │\n",
              "├──────────────────────────────────────┼─────────────────────────────┼─────────────────┤\n",
              "│ dense_23 (<span style=\"color: #0087ff; text-decoration-color: #0087ff\">Dense</span>)                     │ (<span style=\"color: #00d7ff; text-decoration-color: #00d7ff\">None</span>, <span style=\"color: #00af00; text-decoration-color: #00af00\">32</span>)                  │           <span style=\"color: #00af00; text-decoration-color: #00af00\">2,080</span> │\n",
              "├──────────────────────────────────────┼─────────────────────────────┼─────────────────┤\n",
              "│ dense_24 (<span style=\"color: #0087ff; text-decoration-color: #0087ff\">Dense</span>)                     │ (<span style=\"color: #00d7ff; text-decoration-color: #00d7ff\">None</span>, <span style=\"color: #00af00; text-decoration-color: #00af00\">1</span>)                   │              <span style=\"color: #00af00; text-decoration-color: #00af00\">33</span> │\n",
              "└──────────────────────────────────────┴─────────────────────────────┴─────────────────┘\n",
              "</pre>\n"
            ]
          },
          "metadata": {}
        },
        {
          "output_type": "display_data",
          "data": {
            "text/plain": [
              "\u001b[1m Total params: \u001b[0m\u001b[38;5;34m46,849\u001b[0m (183.00 KB)\n"
            ],
            "text/html": [
              "<pre style=\"white-space:pre;overflow-x:auto;line-height:normal;font-family:Menlo,'DejaVu Sans Mono',consolas,'Courier New',monospace\"><span style=\"font-weight: bold\"> Total params: </span><span style=\"color: #00af00; text-decoration-color: #00af00\">46,849</span> (183.00 KB)\n",
              "</pre>\n"
            ]
          },
          "metadata": {}
        },
        {
          "output_type": "display_data",
          "data": {
            "text/plain": [
              "\u001b[1m Trainable params: \u001b[0m\u001b[38;5;34m46,849\u001b[0m (183.00 KB)\n"
            ],
            "text/html": [
              "<pre style=\"white-space:pre;overflow-x:auto;line-height:normal;font-family:Menlo,'DejaVu Sans Mono',consolas,'Courier New',monospace\"><span style=\"font-weight: bold\"> Trainable params: </span><span style=\"color: #00af00; text-decoration-color: #00af00\">46,849</span> (183.00 KB)\n",
              "</pre>\n"
            ]
          },
          "metadata": {}
        },
        {
          "output_type": "display_data",
          "data": {
            "text/plain": [
              "\u001b[1m Non-trainable params: \u001b[0m\u001b[38;5;34m0\u001b[0m (0.00 B)\n"
            ],
            "text/html": [
              "<pre style=\"white-space:pre;overflow-x:auto;line-height:normal;font-family:Menlo,'DejaVu Sans Mono',consolas,'Courier New',monospace\"><span style=\"font-weight: bold\"> Non-trainable params: </span><span style=\"color: #00af00; text-decoration-color: #00af00\">0</span> (0.00 B)\n",
              "</pre>\n"
            ]
          },
          "metadata": {}
        }
      ],
      "source": [
        "my_model.summary()"
      ]
    },
    {
      "cell_type": "code",
      "execution_count": null,
      "metadata": {
        "colab": {
          "base_uri": "https://localhost:8080/"
        },
        "id": "MvuSTMD244ib",
        "outputId": "0a916d5c-5128-4820-81d2-785f4f91d107"
      },
      "outputs": [
        {
          "output_type": "stream",
          "name": "stdout",
          "text": [
            "Epoch 1/300\n",
            "\u001b[1m701/701\u001b[0m \u001b[32m━━━━━━━━━━━━━━━━━━━━\u001b[0m\u001b[37m\u001b[0m \u001b[1m3s\u001b[0m 2ms/step - loss: 1.8577 - mean_squared_error: 1.8577 - val_loss: 0.3133 - val_mean_squared_error: 0.3133\n",
            "Epoch 2/300\n",
            "\u001b[1m701/701\u001b[0m \u001b[32m━━━━━━━━━━━━━━━━━━━━\u001b[0m\u001b[37m\u001b[0m \u001b[1m1s\u001b[0m 2ms/step - loss: 0.2926 - mean_squared_error: 0.2926 - val_loss: 0.2584 - val_mean_squared_error: 0.2584\n",
            "Epoch 3/300\n",
            "\u001b[1m701/701\u001b[0m \u001b[32m━━━━━━━━━━━━━━━━━━━━\u001b[0m\u001b[37m\u001b[0m \u001b[1m1s\u001b[0m 2ms/step - loss: 0.2355 - mean_squared_error: 0.2355 - val_loss: 0.2429 - val_mean_squared_error: 0.2429\n",
            "Epoch 4/300\n",
            "\u001b[1m701/701\u001b[0m \u001b[32m━━━━━━━━━━━━━━━━━━━━\u001b[0m\u001b[37m\u001b[0m \u001b[1m1s\u001b[0m 2ms/step - loss: 0.1838 - mean_squared_error: 0.1838 - val_loss: 0.1652 - val_mean_squared_error: 0.1652\n",
            "Epoch 5/300\n",
            "\u001b[1m701/701\u001b[0m \u001b[32m━━━━━━━━━━━━━━━━━━━━\u001b[0m\u001b[37m\u001b[0m \u001b[1m1s\u001b[0m 2ms/step - loss: 0.1523 - mean_squared_error: 0.1523 - val_loss: 0.1223 - val_mean_squared_error: 0.1223\n",
            "Epoch 6/300\n",
            "\u001b[1m701/701\u001b[0m \u001b[32m━━━━━━━━━━━━━━━━━━━━\u001b[0m\u001b[37m\u001b[0m \u001b[1m1s\u001b[0m 2ms/step - loss: 0.1344 - mean_squared_error: 0.1344 - val_loss: 0.1709 - val_mean_squared_error: 0.1709\n",
            "Epoch 7/300\n",
            "\u001b[1m701/701\u001b[0m \u001b[32m━━━━━━━━━━━━━━━━━━━━\u001b[0m\u001b[37m\u001b[0m \u001b[1m1s\u001b[0m 2ms/step - loss: 0.1343 - mean_squared_error: 0.1343 - val_loss: 0.1523 - val_mean_squared_error: 0.1523\n",
            "Epoch 8/300\n",
            "\u001b[1m701/701\u001b[0m \u001b[32m━━━━━━━━━━━━━━━━━━━━\u001b[0m\u001b[37m\u001b[0m \u001b[1m1s\u001b[0m 2ms/step - loss: 0.1105 - mean_squared_error: 0.1105 - val_loss: 0.0876 - val_mean_squared_error: 0.0876\n",
            "Epoch 9/300\n",
            "\u001b[1m701/701\u001b[0m \u001b[32m━━━━━━━━━━━━━━━━━━━━\u001b[0m\u001b[37m\u001b[0m \u001b[1m1s\u001b[0m 2ms/step - loss: 0.1061 - mean_squared_error: 0.1061 - val_loss: 0.1211 - val_mean_squared_error: 0.1211\n",
            "Epoch 10/300\n",
            "\u001b[1m701/701\u001b[0m \u001b[32m━━━━━━━━━━━━━━━━━━━━\u001b[0m\u001b[37m\u001b[0m \u001b[1m1s\u001b[0m 2ms/step - loss: 0.0961 - mean_squared_error: 0.0961 - val_loss: 0.0925 - val_mean_squared_error: 0.0925\n",
            "Epoch 11/300\n",
            "\u001b[1m701/701\u001b[0m \u001b[32m━━━━━━━━━━━━━━━━━━━━\u001b[0m\u001b[37m\u001b[0m \u001b[1m1s\u001b[0m 2ms/step - loss: 0.0908 - mean_squared_error: 0.0908 - val_loss: 0.0952 - val_mean_squared_error: 0.0952\n",
            "Epoch 12/300\n",
            "\u001b[1m701/701\u001b[0m \u001b[32m━━━━━━━━━━━━━━━━━━━━\u001b[0m\u001b[37m\u001b[0m \u001b[1m1s\u001b[0m 2ms/step - loss: 0.0960 - mean_squared_error: 0.0960 - val_loss: 0.0860 - val_mean_squared_error: 0.0860\n",
            "Epoch 13/300\n",
            "\u001b[1m701/701\u001b[0m \u001b[32m━━━━━━━━━━━━━━━━━━━━\u001b[0m\u001b[37m\u001b[0m \u001b[1m1s\u001b[0m 2ms/step - loss: 0.0801 - mean_squared_error: 0.0801 - val_loss: 0.0722 - val_mean_squared_error: 0.0722\n",
            "Epoch 14/300\n",
            "\u001b[1m701/701\u001b[0m \u001b[32m━━━━━━━━━━━━━━━━━━━━\u001b[0m\u001b[37m\u001b[0m \u001b[1m1s\u001b[0m 2ms/step - loss: 0.0757 - mean_squared_error: 0.0757 - val_loss: 0.0905 - val_mean_squared_error: 0.0905\n",
            "Epoch 15/300\n",
            "\u001b[1m701/701\u001b[0m \u001b[32m━━━━━━━━━━━━━━━━━━━━\u001b[0m\u001b[37m\u001b[0m \u001b[1m1s\u001b[0m 2ms/step - loss: 0.0844 - mean_squared_error: 0.0844 - val_loss: 0.0751 - val_mean_squared_error: 0.0751\n",
            "Epoch 16/300\n",
            "\u001b[1m701/701\u001b[0m \u001b[32m━━━━━━━━━━━━━━━━━━━━\u001b[0m\u001b[37m\u001b[0m \u001b[1m1s\u001b[0m 2ms/step - loss: 0.0689 - mean_squared_error: 0.0689 - val_loss: 0.0675 - val_mean_squared_error: 0.0675\n",
            "Epoch 17/300\n",
            "\u001b[1m701/701\u001b[0m \u001b[32m━━━━━━━━━━━━━━━━━━━━\u001b[0m\u001b[37m\u001b[0m \u001b[1m1s\u001b[0m 2ms/step - loss: 0.0755 - mean_squared_error: 0.0755 - val_loss: 0.0890 - val_mean_squared_error: 0.0890\n",
            "Epoch 18/300\n",
            "\u001b[1m701/701\u001b[0m \u001b[32m━━━━━━━━━━━━━━━━━━━━\u001b[0m\u001b[37m\u001b[0m \u001b[1m1s\u001b[0m 2ms/step - loss: 0.0757 - mean_squared_error: 0.0757 - val_loss: 0.0676 - val_mean_squared_error: 0.0676\n",
            "Epoch 19/300\n",
            "\u001b[1m701/701\u001b[0m \u001b[32m━━━━━━━━━━━━━━━━━━━━\u001b[0m\u001b[37m\u001b[0m \u001b[1m1s\u001b[0m 2ms/step - loss: 0.0687 - mean_squared_error: 0.0687 - val_loss: 0.0541 - val_mean_squared_error: 0.0541\n",
            "Epoch 20/300\n",
            "\u001b[1m701/701\u001b[0m \u001b[32m━━━━━━━━━━━━━━━━━━━━\u001b[0m\u001b[37m\u001b[0m \u001b[1m1s\u001b[0m 2ms/step - loss: 0.0639 - mean_squared_error: 0.0639 - val_loss: 0.0616 - val_mean_squared_error: 0.0616\n",
            "Epoch 21/300\n",
            "\u001b[1m701/701\u001b[0m \u001b[32m━━━━━━━━━━━━━━━━━━━━\u001b[0m\u001b[37m\u001b[0m \u001b[1m1s\u001b[0m 2ms/step - loss: 0.0583 - mean_squared_error: 0.0583 - val_loss: 0.0481 - val_mean_squared_error: 0.0481\n",
            "Epoch 22/300\n",
            "\u001b[1m701/701\u001b[0m \u001b[32m━━━━━━━━━━━━━━━━━━━━\u001b[0m\u001b[37m\u001b[0m \u001b[1m1s\u001b[0m 2ms/step - loss: 0.0621 - mean_squared_error: 0.0621 - val_loss: 0.0648 - val_mean_squared_error: 0.0648\n",
            "Epoch 23/300\n",
            "\u001b[1m701/701\u001b[0m \u001b[32m━━━━━━━━━━━━━━━━━━━━\u001b[0m\u001b[37m\u001b[0m \u001b[1m1s\u001b[0m 2ms/step - loss: 0.0613 - mean_squared_error: 0.0613 - val_loss: 0.0500 - val_mean_squared_error: 0.0500\n",
            "Epoch 24/300\n",
            "\u001b[1m701/701\u001b[0m \u001b[32m━━━━━━━━━━━━━━━━━━━━\u001b[0m\u001b[37m\u001b[0m \u001b[1m1s\u001b[0m 2ms/step - loss: 0.0605 - mean_squared_error: 0.0605 - val_loss: 0.0505 - val_mean_squared_error: 0.0505\n",
            "Epoch 25/300\n",
            "\u001b[1m701/701\u001b[0m \u001b[32m━━━━━━━━━━━━━━━━━━━━\u001b[0m\u001b[37m\u001b[0m \u001b[1m1s\u001b[0m 2ms/step - loss: 0.0564 - mean_squared_error: 0.0564 - val_loss: 0.0553 - val_mean_squared_error: 0.0553\n",
            "Epoch 26/300\n",
            "\u001b[1m701/701\u001b[0m \u001b[32m━━━━━━━━━━━━━━━━━━━━\u001b[0m\u001b[37m\u001b[0m \u001b[1m1s\u001b[0m 2ms/step - loss: 0.0507 - mean_squared_error: 0.0507 - val_loss: 0.0488 - val_mean_squared_error: 0.0488\n",
            "Epoch 27/300\n",
            "\u001b[1m701/701\u001b[0m \u001b[32m━━━━━━━━━━━━━━━━━━━━\u001b[0m\u001b[37m\u001b[0m \u001b[1m1s\u001b[0m 2ms/step - loss: 0.0501 - mean_squared_error: 0.0501 - val_loss: 0.0439 - val_mean_squared_error: 0.0439\n",
            "Epoch 28/300\n",
            "\u001b[1m701/701\u001b[0m \u001b[32m━━━━━━━━━━━━━━━━━━━━\u001b[0m\u001b[37m\u001b[0m \u001b[1m1s\u001b[0m 2ms/step - loss: 0.0455 - mean_squared_error: 0.0455 - val_loss: 0.0679 - val_mean_squared_error: 0.0679\n",
            "Epoch 29/300\n",
            "\u001b[1m701/701\u001b[0m \u001b[32m━━━━━━━━━━━━━━━━━━━━\u001b[0m\u001b[37m\u001b[0m \u001b[1m1s\u001b[0m 2ms/step - loss: 0.0497 - mean_squared_error: 0.0497 - val_loss: 0.0439 - val_mean_squared_error: 0.0439\n",
            "Epoch 30/300\n",
            "\u001b[1m701/701\u001b[0m \u001b[32m━━━━━━━━━━━━━━━━━━━━\u001b[0m\u001b[37m\u001b[0m \u001b[1m1s\u001b[0m 2ms/step - loss: 0.0533 - mean_squared_error: 0.0533 - val_loss: 0.0478 - val_mean_squared_error: 0.0478\n",
            "Epoch 31/300\n",
            "\u001b[1m701/701\u001b[0m \u001b[32m━━━━━━━━━━━━━━━━━━━━\u001b[0m\u001b[37m\u001b[0m \u001b[1m1s\u001b[0m 2ms/step - loss: 0.0417 - mean_squared_error: 0.0417 - val_loss: 0.0474 - val_mean_squared_error: 0.0474\n",
            "Epoch 32/300\n",
            "\u001b[1m701/701\u001b[0m \u001b[32m━━━━━━━━━━━━━━━━━━━━\u001b[0m\u001b[37m\u001b[0m \u001b[1m1s\u001b[0m 2ms/step - loss: 0.0447 - mean_squared_error: 0.0447 - val_loss: 0.0522 - val_mean_squared_error: 0.0522\n",
            "Epoch 33/300\n",
            "\u001b[1m701/701\u001b[0m \u001b[32m━━━━━━━━━━━━━━━━━━━━\u001b[0m\u001b[37m\u001b[0m \u001b[1m1s\u001b[0m 2ms/step - loss: 0.0397 - mean_squared_error: 0.0397 - val_loss: 0.0467 - val_mean_squared_error: 0.0467\n",
            "Epoch 34/300\n",
            "\u001b[1m701/701\u001b[0m \u001b[32m━━━━━━━━━━━━━━━━━━━━\u001b[0m\u001b[37m\u001b[0m \u001b[1m1s\u001b[0m 2ms/step - loss: 0.0452 - mean_squared_error: 0.0452 - val_loss: 0.0504 - val_mean_squared_error: 0.0504\n",
            "Epoch 35/300\n",
            "\u001b[1m701/701\u001b[0m \u001b[32m━━━━━━━━━━━━━━━━━━━━\u001b[0m\u001b[37m\u001b[0m \u001b[1m1s\u001b[0m 2ms/step - loss: 0.0522 - mean_squared_error: 0.0522 - val_loss: 0.0344 - val_mean_squared_error: 0.0344\n",
            "Epoch 36/300\n",
            "\u001b[1m701/701\u001b[0m \u001b[32m━━━━━━━━━━━━━━━━━━━━\u001b[0m\u001b[37m\u001b[0m \u001b[1m1s\u001b[0m 2ms/step - loss: 0.0331 - mean_squared_error: 0.0331 - val_loss: 0.0425 - val_mean_squared_error: 0.0425\n",
            "Epoch 37/300\n",
            "\u001b[1m701/701\u001b[0m \u001b[32m━━━━━━━━━━━━━━━━━━━━\u001b[0m\u001b[37m\u001b[0m \u001b[1m1s\u001b[0m 2ms/step - loss: 0.0329 - mean_squared_error: 0.0329 - val_loss: 0.0489 - val_mean_squared_error: 0.0489\n",
            "Epoch 38/300\n",
            "\u001b[1m701/701\u001b[0m \u001b[32m━━━━━━━━━━━━━━━━━━━━\u001b[0m\u001b[37m\u001b[0m \u001b[1m1s\u001b[0m 2ms/step - loss: 0.0387 - mean_squared_error: 0.0387 - val_loss: 0.0325 - val_mean_squared_error: 0.0325\n",
            "Epoch 39/300\n",
            "\u001b[1m701/701\u001b[0m \u001b[32m━━━━━━━━━━━━━━━━━━━━\u001b[0m\u001b[37m\u001b[0m \u001b[1m1s\u001b[0m 2ms/step - loss: 0.0370 - mean_squared_error: 0.0370 - val_loss: 0.0474 - val_mean_squared_error: 0.0474\n",
            "Epoch 40/300\n",
            "\u001b[1m701/701\u001b[0m \u001b[32m━━━━━━━━━━━━━━━━━━━━\u001b[0m\u001b[37m\u001b[0m \u001b[1m1s\u001b[0m 2ms/step - loss: 0.0424 - mean_squared_error: 0.0424 - val_loss: 0.0382 - val_mean_squared_error: 0.0382\n",
            "Epoch 41/300\n",
            "\u001b[1m701/701\u001b[0m \u001b[32m━━━━━━━━━━━━━━━━━━━━\u001b[0m\u001b[37m\u001b[0m \u001b[1m1s\u001b[0m 2ms/step - loss: 0.0354 - mean_squared_error: 0.0354 - val_loss: 0.0363 - val_mean_squared_error: 0.0363\n",
            "Epoch 42/300\n",
            "\u001b[1m701/701\u001b[0m \u001b[32m━━━━━━━━━━━━━━━━━━━━\u001b[0m\u001b[37m\u001b[0m \u001b[1m1s\u001b[0m 2ms/step - loss: 0.0285 - mean_squared_error: 0.0285 - val_loss: 0.0383 - val_mean_squared_error: 0.0383\n",
            "Epoch 43/300\n",
            "\u001b[1m701/701\u001b[0m \u001b[32m━━━━━━━━━━━━━━━━━━━━\u001b[0m\u001b[37m\u001b[0m \u001b[1m1s\u001b[0m 2ms/step - loss: 0.0327 - mean_squared_error: 0.0327 - val_loss: 0.0520 - val_mean_squared_error: 0.0520\n",
            "Epoch 44/300\n",
            "\u001b[1m701/701\u001b[0m \u001b[32m━━━━━━━━━━━━━━━━━━━━\u001b[0m\u001b[37m\u001b[0m \u001b[1m1s\u001b[0m 2ms/step - loss: 0.0448 - mean_squared_error: 0.0448 - val_loss: 0.0439 - val_mean_squared_error: 0.0439\n",
            "Epoch 45/300\n",
            "\u001b[1m701/701\u001b[0m \u001b[32m━━━━━━━━━━━━━━━━━━━━\u001b[0m\u001b[37m\u001b[0m \u001b[1m1s\u001b[0m 2ms/step - loss: 0.0349 - mean_squared_error: 0.0349 - val_loss: 0.0347 - val_mean_squared_error: 0.0347\n",
            "Epoch 46/300\n",
            "\u001b[1m701/701\u001b[0m \u001b[32m━━━━━━━━━━━━━━━━━━━━\u001b[0m\u001b[37m\u001b[0m \u001b[1m1s\u001b[0m 2ms/step - loss: 0.0254 - mean_squared_error: 0.0254 - val_loss: 0.0460 - val_mean_squared_error: 0.0460\n",
            "Epoch 47/300\n",
            "\u001b[1m701/701\u001b[0m \u001b[32m━━━━━━━━━━━━━━━━━━━━\u001b[0m\u001b[37m\u001b[0m \u001b[1m1s\u001b[0m 2ms/step - loss: 0.0296 - mean_squared_error: 0.0296 - val_loss: 0.0339 - val_mean_squared_error: 0.0339\n",
            "Epoch 48/300\n",
            "\u001b[1m701/701\u001b[0m \u001b[32m━━━━━━━━━━━━━━━━━━━━\u001b[0m\u001b[37m\u001b[0m \u001b[1m1s\u001b[0m 2ms/step - loss: 0.0333 - mean_squared_error: 0.0333 - val_loss: 0.0352 - val_mean_squared_error: 0.0352\n",
            "Epoch 49/300\n",
            "\u001b[1m701/701\u001b[0m \u001b[32m━━━━━━━━━━━━━━━━━━━━\u001b[0m\u001b[37m\u001b[0m \u001b[1m1s\u001b[0m 2ms/step - loss: 0.0267 - mean_squared_error: 0.0267 - val_loss: 0.0500 - val_mean_squared_error: 0.0500\n",
            "Epoch 50/300\n",
            "\u001b[1m701/701\u001b[0m \u001b[32m━━━━━━━━━━━━━━━━━━━━\u001b[0m\u001b[37m\u001b[0m \u001b[1m1s\u001b[0m 2ms/step - loss: 0.0287 - mean_squared_error: 0.0287 - val_loss: 0.0449 - val_mean_squared_error: 0.0449\n",
            "Epoch 51/300\n",
            "\u001b[1m701/701\u001b[0m \u001b[32m━━━━━━━━━━━━━━━━━━━━\u001b[0m\u001b[37m\u001b[0m \u001b[1m1s\u001b[0m 2ms/step - loss: 0.0293 - mean_squared_error: 0.0293 - val_loss: 0.0424 - val_mean_squared_error: 0.0424\n",
            "Epoch 52/300\n",
            "\u001b[1m701/701\u001b[0m \u001b[32m━━━━━━━━━━━━━━━━━━━━\u001b[0m\u001b[37m\u001b[0m \u001b[1m1s\u001b[0m 2ms/step - loss: 0.0334 - mean_squared_error: 0.0334 - val_loss: 0.0358 - val_mean_squared_error: 0.0358\n",
            "Epoch 53/300\n",
            "\u001b[1m701/701\u001b[0m \u001b[32m━━━━━━━━━━━━━━━━━━━━\u001b[0m\u001b[37m\u001b[0m \u001b[1m1s\u001b[0m 2ms/step - loss: 0.0283 - mean_squared_error: 0.0283 - val_loss: 0.0252 - val_mean_squared_error: 0.0252\n",
            "Epoch 54/300\n",
            "\u001b[1m701/701\u001b[0m \u001b[32m━━━━━━━━━━━━━━━━━━━━\u001b[0m\u001b[37m\u001b[0m \u001b[1m1s\u001b[0m 2ms/step - loss: 0.0287 - mean_squared_error: 0.0287 - val_loss: 0.0425 - val_mean_squared_error: 0.0425\n",
            "Epoch 55/300\n",
            "\u001b[1m701/701\u001b[0m \u001b[32m━━━━━━━━━━━━━━━━━━━━\u001b[0m\u001b[37m\u001b[0m \u001b[1m1s\u001b[0m 2ms/step - loss: 0.0299 - mean_squared_error: 0.0299 - val_loss: 0.0272 - val_mean_squared_error: 0.0272\n",
            "Epoch 56/300\n",
            "\u001b[1m701/701\u001b[0m \u001b[32m━━━━━━━━━━━━━━━━━━━━\u001b[0m\u001b[37m\u001b[0m \u001b[1m1s\u001b[0m 2ms/step - loss: 0.0227 - mean_squared_error: 0.0227 - val_loss: 0.0428 - val_mean_squared_error: 0.0428\n",
            "Epoch 57/300\n",
            "\u001b[1m701/701\u001b[0m \u001b[32m━━━━━━━━━━━━━━━━━━━━\u001b[0m\u001b[37m\u001b[0m \u001b[1m1s\u001b[0m 2ms/step - loss: 0.0291 - mean_squared_error: 0.0291 - val_loss: 0.0339 - val_mean_squared_error: 0.0339\n",
            "Epoch 58/300\n",
            "\u001b[1m701/701\u001b[0m \u001b[32m━━━━━━━━━━━━━━━━━━━━\u001b[0m\u001b[37m\u001b[0m \u001b[1m1s\u001b[0m 2ms/step - loss: 0.0257 - mean_squared_error: 0.0257 - val_loss: 0.0266 - val_mean_squared_error: 0.0266\n",
            "Epoch 59/300\n",
            "\u001b[1m701/701\u001b[0m \u001b[32m━━━━━━━━━━━━━━━━━━━━\u001b[0m\u001b[37m\u001b[0m \u001b[1m1s\u001b[0m 2ms/step - loss: 0.0224 - mean_squared_error: 0.0224 - val_loss: 0.0370 - val_mean_squared_error: 0.0370\n",
            "Epoch 60/300\n",
            "\u001b[1m701/701\u001b[0m \u001b[32m━━━━━━━━━━━━━━━━━━━━\u001b[0m\u001b[37m\u001b[0m \u001b[1m1s\u001b[0m 2ms/step - loss: 0.0250 - mean_squared_error: 0.0250 - val_loss: 0.0285 - val_mean_squared_error: 0.0285\n",
            "Epoch 61/300\n",
            "\u001b[1m701/701\u001b[0m \u001b[32m━━━━━━━━━━━━━━━━━━━━\u001b[0m\u001b[37m\u001b[0m \u001b[1m1s\u001b[0m 2ms/step - loss: 0.0291 - mean_squared_error: 0.0291 - val_loss: 0.0248 - val_mean_squared_error: 0.0248\n",
            "Epoch 62/300\n",
            "\u001b[1m701/701\u001b[0m \u001b[32m━━━━━━━━━━━━━━━━━━━━\u001b[0m\u001b[37m\u001b[0m \u001b[1m1s\u001b[0m 2ms/step - loss: 0.0246 - mean_squared_error: 0.0246 - val_loss: 0.0460 - val_mean_squared_error: 0.0460\n",
            "Epoch 63/300\n",
            "\u001b[1m701/701\u001b[0m \u001b[32m━━━━━━━━━━━━━━━━━━━━\u001b[0m\u001b[37m\u001b[0m \u001b[1m1s\u001b[0m 2ms/step - loss: 0.0304 - mean_squared_error: 0.0304 - val_loss: 0.0357 - val_mean_squared_error: 0.0357\n",
            "Epoch 64/300\n",
            "\u001b[1m701/701\u001b[0m \u001b[32m━━━━━━━━━━━━━━━━━━━━\u001b[0m\u001b[37m\u001b[0m \u001b[1m1s\u001b[0m 2ms/step - loss: 0.0215 - mean_squared_error: 0.0215 - val_loss: 0.0288 - val_mean_squared_error: 0.0288\n",
            "Epoch 65/300\n",
            "\u001b[1m701/701\u001b[0m \u001b[32m━━━━━━━━━━━━━━━━━━━━\u001b[0m\u001b[37m\u001b[0m \u001b[1m1s\u001b[0m 2ms/step - loss: 0.0259 - mean_squared_error: 0.0259 - val_loss: 0.0302 - val_mean_squared_error: 0.0302\n",
            "Epoch 66/300\n",
            "\u001b[1m701/701\u001b[0m \u001b[32m━━━━━━━━━━━━━━━━━━━━\u001b[0m\u001b[37m\u001b[0m \u001b[1m1s\u001b[0m 2ms/step - loss: 0.0243 - mean_squared_error: 0.0243 - val_loss: 0.0242 - val_mean_squared_error: 0.0242\n",
            "Epoch 67/300\n",
            "\u001b[1m701/701\u001b[0m \u001b[32m━━━━━━━━━━━━━━━━━━━━\u001b[0m\u001b[37m\u001b[0m \u001b[1m1s\u001b[0m 2ms/step - loss: 0.0174 - mean_squared_error: 0.0174 - val_loss: 0.0526 - val_mean_squared_error: 0.0526\n",
            "Epoch 68/300\n",
            "\u001b[1m701/701\u001b[0m \u001b[32m━━━━━━━━━━━━━━━━━━━━\u001b[0m\u001b[37m\u001b[0m \u001b[1m1s\u001b[0m 2ms/step - loss: 0.0293 - mean_squared_error: 0.0293 - val_loss: 0.0272 - val_mean_squared_error: 0.0272\n",
            "Epoch 69/300\n",
            "\u001b[1m701/701\u001b[0m \u001b[32m━━━━━━━━━━━━━━━━━━━━\u001b[0m\u001b[37m\u001b[0m \u001b[1m1s\u001b[0m 2ms/step - loss: 0.0172 - mean_squared_error: 0.0172 - val_loss: 0.0332 - val_mean_squared_error: 0.0332\n",
            "Epoch 70/300\n",
            "\u001b[1m701/701\u001b[0m \u001b[32m━━━━━━━━━━━━━━━━━━━━\u001b[0m\u001b[37m\u001b[0m \u001b[1m1s\u001b[0m 2ms/step - loss: 0.0296 - mean_squared_error: 0.0296 - val_loss: 0.0349 - val_mean_squared_error: 0.0349\n",
            "Epoch 71/300\n",
            "\u001b[1m701/701\u001b[0m \u001b[32m━━━━━━━━━━━━━━━━━━━━\u001b[0m\u001b[37m\u001b[0m \u001b[1m1s\u001b[0m 2ms/step - loss: 0.0225 - mean_squared_error: 0.0225 - val_loss: 0.0308 - val_mean_squared_error: 0.0308\n",
            "Epoch 72/300\n",
            "\u001b[1m701/701\u001b[0m \u001b[32m━━━━━━━━━━━━━━━━━━━━\u001b[0m\u001b[37m\u001b[0m \u001b[1m1s\u001b[0m 2ms/step - loss: 0.0314 - mean_squared_error: 0.0314 - val_loss: 0.0374 - val_mean_squared_error: 0.0374\n",
            "Epoch 73/300\n",
            "\u001b[1m701/701\u001b[0m \u001b[32m━━━━━━━━━━━━━━━━━━━━\u001b[0m\u001b[37m\u001b[0m \u001b[1m1s\u001b[0m 2ms/step - loss: 0.0262 - mean_squared_error: 0.0262 - val_loss: 0.0277 - val_mean_squared_error: 0.0277\n",
            "Epoch 74/300\n",
            "\u001b[1m701/701\u001b[0m \u001b[32m━━━━━━━━━━━━━━━━━━━━\u001b[0m\u001b[37m\u001b[0m \u001b[1m1s\u001b[0m 2ms/step - loss: 0.0206 - mean_squared_error: 0.0206 - val_loss: 0.0168 - val_mean_squared_error: 0.0168\n",
            "Epoch 75/300\n",
            "\u001b[1m701/701\u001b[0m \u001b[32m━━━━━━━━━━━━━━━━━━━━\u001b[0m\u001b[37m\u001b[0m \u001b[1m1s\u001b[0m 2ms/step - loss: 0.0193 - mean_squared_error: 0.0193 - val_loss: 0.0384 - val_mean_squared_error: 0.0384\n",
            "Epoch 76/300\n",
            "\u001b[1m701/701\u001b[0m \u001b[32m━━━━━━━━━━━━━━━━━━━━\u001b[0m\u001b[37m\u001b[0m \u001b[1m1s\u001b[0m 2ms/step - loss: 0.0192 - mean_squared_error: 0.0192 - val_loss: 0.0366 - val_mean_squared_error: 0.0366\n",
            "Epoch 77/300\n",
            "\u001b[1m701/701\u001b[0m \u001b[32m━━━━━━━━━━━━━━━━━━━━\u001b[0m\u001b[37m\u001b[0m \u001b[1m1s\u001b[0m 2ms/step - loss: 0.0216 - mean_squared_error: 0.0216 - val_loss: 0.0223 - val_mean_squared_error: 0.0223\n",
            "Epoch 78/300\n",
            "\u001b[1m701/701\u001b[0m \u001b[32m━━━━━━━━━━━━━━━━━━━━\u001b[0m\u001b[37m\u001b[0m \u001b[1m1s\u001b[0m 2ms/step - loss: 0.0183 - mean_squared_error: 0.0183 - val_loss: 0.0363 - val_mean_squared_error: 0.0363\n",
            "Epoch 79/300\n",
            "\u001b[1m701/701\u001b[0m \u001b[32m━━━━━━━━━━━━━━━━━━━━\u001b[0m\u001b[37m\u001b[0m \u001b[1m1s\u001b[0m 2ms/step - loss: 0.0215 - mean_squared_error: 0.0215 - val_loss: 0.0209 - val_mean_squared_error: 0.0209\n",
            "Epoch 80/300\n",
            "\u001b[1m701/701\u001b[0m \u001b[32m━━━━━━━━━━━━━━━━━━━━\u001b[0m\u001b[37m\u001b[0m \u001b[1m1s\u001b[0m 2ms/step - loss: 0.0180 - mean_squared_error: 0.0180 - val_loss: 0.0205 - val_mean_squared_error: 0.0205\n",
            "Epoch 81/300\n",
            "\u001b[1m701/701\u001b[0m \u001b[32m━━━━━━━━━━━━━━━━━━━━\u001b[0m\u001b[37m\u001b[0m \u001b[1m1s\u001b[0m 2ms/step - loss: 0.0274 - mean_squared_error: 0.0274 - val_loss: 0.0217 - val_mean_squared_error: 0.0217\n",
            "Epoch 82/300\n",
            "\u001b[1m701/701\u001b[0m \u001b[32m━━━━━━━━━━━━━━━━━━━━\u001b[0m\u001b[37m\u001b[0m \u001b[1m1s\u001b[0m 2ms/step - loss: 0.0193 - mean_squared_error: 0.0193 - val_loss: 0.0222 - val_mean_squared_error: 0.0222\n",
            "Epoch 83/300\n",
            "\u001b[1m701/701\u001b[0m \u001b[32m━━━━━━━━━━━━━━━━━━━━\u001b[0m\u001b[37m\u001b[0m \u001b[1m1s\u001b[0m 2ms/step - loss: 0.0140 - mean_squared_error: 0.0140 - val_loss: 0.0299 - val_mean_squared_error: 0.0299\n",
            "Epoch 84/300\n",
            "\u001b[1m701/701\u001b[0m \u001b[32m━━━━━━━━━━━━━━━━━━━━\u001b[0m\u001b[37m\u001b[0m \u001b[1m1s\u001b[0m 2ms/step - loss: 0.0206 - mean_squared_error: 0.0206 - val_loss: 0.0243 - val_mean_squared_error: 0.0243\n",
            "Epoch 85/300\n",
            "\u001b[1m701/701\u001b[0m \u001b[32m━━━━━━━━━━━━━━━━━━━━\u001b[0m\u001b[37m\u001b[0m \u001b[1m1s\u001b[0m 2ms/step - loss: 0.0258 - mean_squared_error: 0.0258 - val_loss: 0.0195 - val_mean_squared_error: 0.0195\n",
            "Epoch 86/300\n",
            "\u001b[1m701/701\u001b[0m \u001b[32m━━━━━━━━━━━━━━━━━━━━\u001b[0m\u001b[37m\u001b[0m \u001b[1m1s\u001b[0m 2ms/step - loss: 0.0161 - mean_squared_error: 0.0161 - val_loss: 0.0280 - val_mean_squared_error: 0.0280\n",
            "Epoch 87/300\n",
            "\u001b[1m701/701\u001b[0m \u001b[32m━━━━━━━━━━━━━━━━━━━━\u001b[0m\u001b[37m\u001b[0m \u001b[1m1s\u001b[0m 2ms/step - loss: 0.0236 - mean_squared_error: 0.0236 - val_loss: 0.0336 - val_mean_squared_error: 0.0336\n",
            "Epoch 88/300\n",
            "\u001b[1m701/701\u001b[0m \u001b[32m━━━━━━━━━━━━━━━━━━━━\u001b[0m\u001b[37m\u001b[0m \u001b[1m1s\u001b[0m 2ms/step - loss: 0.0193 - mean_squared_error: 0.0193 - val_loss: 0.0212 - val_mean_squared_error: 0.0212\n",
            "Epoch 89/300\n",
            "\u001b[1m701/701\u001b[0m \u001b[32m━━━━━━━━━━━━━━━━━━━━\u001b[0m\u001b[37m\u001b[0m \u001b[1m1s\u001b[0m 2ms/step - loss: 0.0216 - mean_squared_error: 0.0216 - val_loss: 0.0192 - val_mean_squared_error: 0.0192\n",
            "Epoch 90/300\n",
            "\u001b[1m701/701\u001b[0m \u001b[32m━━━━━━━━━━━━━━━━━━━━\u001b[0m\u001b[37m\u001b[0m \u001b[1m1s\u001b[0m 2ms/step - loss: 0.0142 - mean_squared_error: 0.0142 - val_loss: 0.0264 - val_mean_squared_error: 0.0264\n",
            "Epoch 91/300\n",
            "\u001b[1m701/701\u001b[0m \u001b[32m━━━━━━━━━━━━━━━━━━━━\u001b[0m\u001b[37m\u001b[0m \u001b[1m1s\u001b[0m 2ms/step - loss: 0.0193 - mean_squared_error: 0.0193 - val_loss: 0.0208 - val_mean_squared_error: 0.0208\n",
            "Epoch 92/300\n",
            "\u001b[1m701/701\u001b[0m \u001b[32m━━━━━━━━━━━━━━━━━━━━\u001b[0m\u001b[37m\u001b[0m \u001b[1m1s\u001b[0m 2ms/step - loss: 0.0195 - mean_squared_error: 0.0195 - val_loss: 0.0316 - val_mean_squared_error: 0.0316\n",
            "Epoch 93/300\n",
            "\u001b[1m701/701\u001b[0m \u001b[32m━━━━━━━━━━━━━━━━━━━━\u001b[0m\u001b[37m\u001b[0m \u001b[1m1s\u001b[0m 2ms/step - loss: 0.0146 - mean_squared_error: 0.0146 - val_loss: 0.0299 - val_mean_squared_error: 0.0299\n",
            "Epoch 94/300\n",
            "\u001b[1m701/701\u001b[0m \u001b[32m━━━━━━━━━━━━━━━━━━━━\u001b[0m\u001b[37m\u001b[0m \u001b[1m1s\u001b[0m 2ms/step - loss: 0.0182 - mean_squared_error: 0.0182 - val_loss: 0.0231 - val_mean_squared_error: 0.0231\n",
            "Epoch 95/300\n",
            "\u001b[1m701/701\u001b[0m \u001b[32m━━━━━━━━━━━━━━━━━━━━\u001b[0m\u001b[37m\u001b[0m \u001b[1m1s\u001b[0m 2ms/step - loss: 0.0236 - mean_squared_error: 0.0236 - val_loss: 0.0205 - val_mean_squared_error: 0.0205\n",
            "Epoch 96/300\n",
            "\u001b[1m701/701\u001b[0m \u001b[32m━━━━━━━━━━━━━━━━━━━━\u001b[0m\u001b[37m\u001b[0m \u001b[1m1s\u001b[0m 2ms/step - loss: 0.0198 - mean_squared_error: 0.0198 - val_loss: 0.0355 - val_mean_squared_error: 0.0355\n",
            "Epoch 97/300\n",
            "\u001b[1m701/701\u001b[0m \u001b[32m━━━━━━━━━━━━━━━━━━━━\u001b[0m\u001b[37m\u001b[0m \u001b[1m1s\u001b[0m 2ms/step - loss: 0.0218 - mean_squared_error: 0.0218 - val_loss: 0.0278 - val_mean_squared_error: 0.0278\n",
            "Epoch 98/300\n",
            "\u001b[1m701/701\u001b[0m \u001b[32m━━━━━━━━━━━━━━━━━━━━\u001b[0m\u001b[37m\u001b[0m \u001b[1m1s\u001b[0m 2ms/step - loss: 0.0261 - mean_squared_error: 0.0261 - val_loss: 0.0149 - val_mean_squared_error: 0.0149\n",
            "Epoch 99/300\n",
            "\u001b[1m701/701\u001b[0m \u001b[32m━━━━━━━━━━━━━━━━━━━━\u001b[0m\u001b[37m\u001b[0m \u001b[1m1s\u001b[0m 2ms/step - loss: 0.0146 - mean_squared_error: 0.0146 - val_loss: 0.0295 - val_mean_squared_error: 0.0295\n",
            "Epoch 100/300\n",
            "\u001b[1m701/701\u001b[0m \u001b[32m━━━━━━━━━━━━━━━━━━━━\u001b[0m\u001b[37m\u001b[0m \u001b[1m1s\u001b[0m 2ms/step - loss: 0.0197 - mean_squared_error: 0.0197 - val_loss: 0.0213 - val_mean_squared_error: 0.0213\n",
            "Epoch 101/300\n",
            "\u001b[1m701/701\u001b[0m \u001b[32m━━━━━━━━━━━━━━━━━━━━\u001b[0m\u001b[37m\u001b[0m \u001b[1m1s\u001b[0m 2ms/step - loss: 0.0202 - mean_squared_error: 0.0202 - val_loss: 0.0202 - val_mean_squared_error: 0.0202\n",
            "Epoch 102/300\n",
            "\u001b[1m701/701\u001b[0m \u001b[32m━━━━━━━━━━━━━━━━━━━━\u001b[0m\u001b[37m\u001b[0m \u001b[1m1s\u001b[0m 2ms/step - loss: 0.0173 - mean_squared_error: 0.0173 - val_loss: 0.0215 - val_mean_squared_error: 0.0215\n",
            "Epoch 103/300\n",
            "\u001b[1m701/701\u001b[0m \u001b[32m━━━━━━━━━━━━━━━━━━━━\u001b[0m\u001b[37m\u001b[0m \u001b[1m1s\u001b[0m 2ms/step - loss: 0.0222 - mean_squared_error: 0.0222 - val_loss: 0.0207 - val_mean_squared_error: 0.0207\n",
            "Epoch 104/300\n",
            "\u001b[1m701/701\u001b[0m \u001b[32m━━━━━━━━━━━━━━━━━━━━\u001b[0m\u001b[37m\u001b[0m \u001b[1m1s\u001b[0m 2ms/step - loss: 0.0219 - mean_squared_error: 0.0219 - val_loss: 0.0243 - val_mean_squared_error: 0.0243\n",
            "Epoch 105/300\n",
            "\u001b[1m701/701\u001b[0m \u001b[32m━━━━━━━━━━━━━━━━━━━━\u001b[0m\u001b[37m\u001b[0m \u001b[1m1s\u001b[0m 2ms/step - loss: 0.0196 - mean_squared_error: 0.0196 - val_loss: 0.0222 - val_mean_squared_error: 0.0222\n",
            "Epoch 106/300\n",
            "\u001b[1m701/701\u001b[0m \u001b[32m━━━━━━━━━━━━━━━━━━━━\u001b[0m\u001b[37m\u001b[0m \u001b[1m1s\u001b[0m 2ms/step - loss: 0.0208 - mean_squared_error: 0.0208 - val_loss: 0.0198 - val_mean_squared_error: 0.0198\n",
            "Epoch 107/300\n",
            "\u001b[1m701/701\u001b[0m \u001b[32m━━━━━━━━━━━━━━━━━━━━\u001b[0m\u001b[37m\u001b[0m \u001b[1m1s\u001b[0m 2ms/step - loss: 0.0201 - mean_squared_error: 0.0201 - val_loss: 0.0367 - val_mean_squared_error: 0.0367\n",
            "Epoch 108/300\n",
            "\u001b[1m701/701\u001b[0m \u001b[32m━━━━━━━━━━━━━━━━━━━━\u001b[0m\u001b[37m\u001b[0m \u001b[1m1s\u001b[0m 2ms/step - loss: 0.0285 - mean_squared_error: 0.0285 - val_loss: 0.0221 - val_mean_squared_error: 0.0221\n",
            "Epoch 109/300\n",
            "\u001b[1m701/701\u001b[0m \u001b[32m━━━━━━━━━━━━━━━━━━━━\u001b[0m\u001b[37m\u001b[0m \u001b[1m1s\u001b[0m 2ms/step - loss: 0.0136 - mean_squared_error: 0.0136 - val_loss: 0.0139 - val_mean_squared_error: 0.0139\n",
            "Epoch 110/300\n",
            "\u001b[1m701/701\u001b[0m \u001b[32m━━━━━━━━━━━━━━━━━━━━\u001b[0m\u001b[37m\u001b[0m \u001b[1m1s\u001b[0m 2ms/step - loss: 0.0153 - mean_squared_error: 0.0153 - val_loss: 0.0222 - val_mean_squared_error: 0.0222\n",
            "Epoch 111/300\n",
            "\u001b[1m701/701\u001b[0m \u001b[32m━━━━━━━━━━━━━━━━━━━━\u001b[0m\u001b[37m\u001b[0m \u001b[1m1s\u001b[0m 2ms/step - loss: 0.0186 - mean_squared_error: 0.0186 - val_loss: 0.0147 - val_mean_squared_error: 0.0147\n",
            "Epoch 112/300\n",
            "\u001b[1m701/701\u001b[0m \u001b[32m━━━━━━━━━━━━━━━━━━━━\u001b[0m\u001b[37m\u001b[0m \u001b[1m1s\u001b[0m 2ms/step - loss: 0.0107 - mean_squared_error: 0.0107 - val_loss: 0.0159 - val_mean_squared_error: 0.0159\n",
            "Epoch 113/300\n",
            "\u001b[1m701/701\u001b[0m \u001b[32m━━━━━━━━━━━━━━━━━━━━\u001b[0m\u001b[37m\u001b[0m \u001b[1m1s\u001b[0m 2ms/step - loss: 0.0120 - mean_squared_error: 0.0120 - val_loss: 0.0237 - val_mean_squared_error: 0.0237\n",
            "Epoch 114/300\n",
            "\u001b[1m701/701\u001b[0m \u001b[32m━━━━━━━━━━━━━━━━━━━━\u001b[0m\u001b[37m\u001b[0m \u001b[1m1s\u001b[0m 2ms/step - loss: 0.0160 - mean_squared_error: 0.0160 - val_loss: 0.0276 - val_mean_squared_error: 0.0276\n",
            "Epoch 115/300\n",
            "\u001b[1m701/701\u001b[0m \u001b[32m━━━━━━━━━━━━━━━━━━━━\u001b[0m\u001b[37m\u001b[0m \u001b[1m1s\u001b[0m 2ms/step - loss: 0.0127 - mean_squared_error: 0.0127 - val_loss: 0.0208 - val_mean_squared_error: 0.0208\n",
            "Epoch 116/300\n",
            "\u001b[1m701/701\u001b[0m \u001b[32m━━━━━━━━━━━━━━━━━━━━\u001b[0m\u001b[37m\u001b[0m \u001b[1m1s\u001b[0m 2ms/step - loss: 0.0193 - mean_squared_error: 0.0193 - val_loss: 0.0230 - val_mean_squared_error: 0.0230\n",
            "Epoch 117/300\n",
            "\u001b[1m701/701\u001b[0m \u001b[32m━━━━━━━━━━━━━━━━━━━━\u001b[0m\u001b[37m\u001b[0m \u001b[1m1s\u001b[0m 2ms/step - loss: 0.0170 - mean_squared_error: 0.0170 - val_loss: 0.0168 - val_mean_squared_error: 0.0168\n",
            "Epoch 118/300\n",
            "\u001b[1m701/701\u001b[0m \u001b[32m━━━━━━━━━━━━━━━━━━━━\u001b[0m\u001b[37m\u001b[0m \u001b[1m1s\u001b[0m 2ms/step - loss: 0.0165 - mean_squared_error: 0.0165 - val_loss: 0.0176 - val_mean_squared_error: 0.0176\n",
            "Epoch 119/300\n",
            "\u001b[1m701/701\u001b[0m \u001b[32m━━━━━━━━━━━━━━━━━━━━\u001b[0m\u001b[37m\u001b[0m \u001b[1m1s\u001b[0m 2ms/step - loss: 0.0116 - mean_squared_error: 0.0116 - val_loss: 0.0468 - val_mean_squared_error: 0.0468\n",
            "Epoch 120/300\n",
            "\u001b[1m701/701\u001b[0m \u001b[32m━━━━━━━━━━━━━━━━━━━━\u001b[0m\u001b[37m\u001b[0m \u001b[1m1s\u001b[0m 2ms/step - loss: 0.0175 - mean_squared_error: 0.0175 - val_loss: 0.0171 - val_mean_squared_error: 0.0171\n",
            "Epoch 121/300\n",
            "\u001b[1m701/701\u001b[0m \u001b[32m━━━━━━━━━━━━━━━━━━━━\u001b[0m\u001b[37m\u001b[0m \u001b[1m1s\u001b[0m 2ms/step - loss: 0.0116 - mean_squared_error: 0.0116 - val_loss: 0.0151 - val_mean_squared_error: 0.0151\n",
            "Epoch 122/300\n",
            "\u001b[1m701/701\u001b[0m \u001b[32m━━━━━━━━━━━━━━━━━━━━\u001b[0m\u001b[37m\u001b[0m \u001b[1m1s\u001b[0m 2ms/step - loss: 0.0132 - mean_squared_error: 0.0132 - val_loss: 0.0156 - val_mean_squared_error: 0.0156\n",
            "Epoch 123/300\n",
            "\u001b[1m701/701\u001b[0m \u001b[32m━━━━━━━━━━━━━━━━━━━━\u001b[0m\u001b[37m\u001b[0m \u001b[1m1s\u001b[0m 2ms/step - loss: 0.0117 - mean_squared_error: 0.0117 - val_loss: 0.0261 - val_mean_squared_error: 0.0261\n",
            "Epoch 124/300\n",
            "\u001b[1m701/701\u001b[0m \u001b[32m━━━━━━━━━━━━━━━━━━━━\u001b[0m\u001b[37m\u001b[0m \u001b[1m1s\u001b[0m 2ms/step - loss: 0.0114 - mean_squared_error: 0.0114 - val_loss: 0.0200 - val_mean_squared_error: 0.0200\n",
            "Epoch 125/300\n",
            "\u001b[1m701/701\u001b[0m \u001b[32m━━━━━━━━━━━━━━━━━━━━\u001b[0m\u001b[37m\u001b[0m \u001b[1m1s\u001b[0m 2ms/step - loss: 0.0164 - mean_squared_error: 0.0164 - val_loss: 0.0254 - val_mean_squared_error: 0.0254\n",
            "Epoch 126/300\n",
            "\u001b[1m701/701\u001b[0m \u001b[32m━━━━━━━━━━━━━━━━━━━━\u001b[0m\u001b[37m\u001b[0m \u001b[1m1s\u001b[0m 2ms/step - loss: 0.0261 - mean_squared_error: 0.0261 - val_loss: 0.0144 - val_mean_squared_error: 0.0144\n",
            "Epoch 127/300\n",
            "\u001b[1m701/701\u001b[0m \u001b[32m━━━━━━━━━━━━━━━━━━━━\u001b[0m\u001b[37m\u001b[0m \u001b[1m1s\u001b[0m 2ms/step - loss: 0.0122 - mean_squared_error: 0.0122 - val_loss: 0.0298 - val_mean_squared_error: 0.0298\n",
            "Epoch 128/300\n",
            "\u001b[1m701/701\u001b[0m \u001b[32m━━━━━━━━━━━━━━━━━━━━\u001b[0m\u001b[37m\u001b[0m \u001b[1m1s\u001b[0m 2ms/step - loss: 0.0140 - mean_squared_error: 0.0140 - val_loss: 0.0354 - val_mean_squared_error: 0.0354\n",
            "Epoch 129/300\n",
            "\u001b[1m701/701\u001b[0m \u001b[32m━━━━━━━━━━━━━━━━━━━━\u001b[0m\u001b[37m\u001b[0m \u001b[1m1s\u001b[0m 2ms/step - loss: 0.0118 - mean_squared_error: 0.0118 - val_loss: 0.0278 - val_mean_squared_error: 0.0278\n",
            "Epoch 130/300\n",
            "\u001b[1m701/701\u001b[0m \u001b[32m━━━━━━━━━━━━━━━━━━━━\u001b[0m\u001b[37m\u001b[0m \u001b[1m1s\u001b[0m 2ms/step - loss: 0.0178 - mean_squared_error: 0.0178 - val_loss: 0.0183 - val_mean_squared_error: 0.0183\n",
            "Epoch 131/300\n",
            "\u001b[1m701/701\u001b[0m \u001b[32m━━━━━━━━━━━━━━━━━━━━\u001b[0m\u001b[37m\u001b[0m \u001b[1m1s\u001b[0m 2ms/step - loss: 0.0188 - mean_squared_error: 0.0188 - val_loss: 0.0204 - val_mean_squared_error: 0.0204\n",
            "Epoch 132/300\n",
            "\u001b[1m701/701\u001b[0m \u001b[32m━━━━━━━━━━━━━━━━━━━━\u001b[0m\u001b[37m\u001b[0m \u001b[1m1s\u001b[0m 2ms/step - loss: 0.0291 - mean_squared_error: 0.0291 - val_loss: 0.0190 - val_mean_squared_error: 0.0190\n",
            "Epoch 133/300\n",
            "\u001b[1m701/701\u001b[0m \u001b[32m━━━━━━━━━━━━━━━━━━━━\u001b[0m\u001b[37m\u001b[0m \u001b[1m1s\u001b[0m 2ms/step - loss: 0.0139 - mean_squared_error: 0.0139 - val_loss: 0.0163 - val_mean_squared_error: 0.0163\n",
            "Epoch 134/300\n",
            "\u001b[1m701/701\u001b[0m \u001b[32m━━━━━━━━━━━━━━━━━━━━\u001b[0m\u001b[37m\u001b[0m \u001b[1m1s\u001b[0m 2ms/step - loss: 0.0185 - mean_squared_error: 0.0185 - val_loss: 0.0189 - val_mean_squared_error: 0.0189\n",
            "Epoch 135/300\n",
            "\u001b[1m701/701\u001b[0m \u001b[32m━━━━━━━━━━━━━━━━━━━━\u001b[0m\u001b[37m\u001b[0m \u001b[1m1s\u001b[0m 2ms/step - loss: 0.0097 - mean_squared_error: 0.0097 - val_loss: 0.0252 - val_mean_squared_error: 0.0252\n",
            "Epoch 136/300\n",
            "\u001b[1m701/701\u001b[0m \u001b[32m━━━━━━━━━━━━━━━━━━━━\u001b[0m\u001b[37m\u001b[0m \u001b[1m1s\u001b[0m 2ms/step - loss: 0.0185 - mean_squared_error: 0.0185 - val_loss: 0.0208 - val_mean_squared_error: 0.0208\n",
            "Epoch 137/300\n",
            "\u001b[1m701/701\u001b[0m \u001b[32m━━━━━━━━━━━━━━━━━━━━\u001b[0m\u001b[37m\u001b[0m \u001b[1m1s\u001b[0m 2ms/step - loss: 0.0157 - mean_squared_error: 0.0157 - val_loss: 0.0278 - val_mean_squared_error: 0.0278\n",
            "Epoch 138/300\n",
            "\u001b[1m701/701\u001b[0m \u001b[32m━━━━━━━━━━━━━━━━━━━━\u001b[0m\u001b[37m\u001b[0m \u001b[1m1s\u001b[0m 2ms/step - loss: 0.0203 - mean_squared_error: 0.0203 - val_loss: 0.0173 - val_mean_squared_error: 0.0173\n",
            "Epoch 139/300\n",
            "\u001b[1m701/701\u001b[0m \u001b[32m━━━━━━━━━━━━━━━━━━━━\u001b[0m\u001b[37m\u001b[0m \u001b[1m1s\u001b[0m 2ms/step - loss: 0.0141 - mean_squared_error: 0.0141 - val_loss: 0.0338 - val_mean_squared_error: 0.0338\n",
            "Epoch 140/300\n",
            "\u001b[1m701/701\u001b[0m \u001b[32m━━━━━━━━━━━━━━━━━━━━\u001b[0m\u001b[37m\u001b[0m \u001b[1m1s\u001b[0m 2ms/step - loss: 0.0214 - mean_squared_error: 0.0214 - val_loss: 0.0199 - val_mean_squared_error: 0.0199\n",
            "Epoch 141/300\n",
            "\u001b[1m701/701\u001b[0m \u001b[32m━━━━━━━━━━━━━━━━━━━━\u001b[0m\u001b[37m\u001b[0m \u001b[1m1s\u001b[0m 2ms/step - loss: 0.0114 - mean_squared_error: 0.0114 - val_loss: 0.0278 - val_mean_squared_error: 0.0278\n",
            "Epoch 142/300\n",
            "\u001b[1m701/701\u001b[0m \u001b[32m━━━━━━━━━━━━━━━━━━━━\u001b[0m\u001b[37m\u001b[0m \u001b[1m1s\u001b[0m 2ms/step - loss: 0.0153 - mean_squared_error: 0.0153 - val_loss: 0.0181 - val_mean_squared_error: 0.0181\n",
            "Epoch 143/300\n",
            "\u001b[1m701/701\u001b[0m \u001b[32m━━━━━━━━━━━━━━━━━━━━\u001b[0m\u001b[37m\u001b[0m \u001b[1m1s\u001b[0m 2ms/step - loss: 0.0200 - mean_squared_error: 0.0200 - val_loss: 0.0233 - val_mean_squared_error: 0.0233\n",
            "Epoch 144/300\n",
            "\u001b[1m701/701\u001b[0m \u001b[32m━━━━━━━━━━━━━━━━━━━━\u001b[0m\u001b[37m\u001b[0m \u001b[1m1s\u001b[0m 2ms/step - loss: 0.0142 - mean_squared_error: 0.0142 - val_loss: 0.0190 - val_mean_squared_error: 0.0190\n",
            "Epoch 145/300\n",
            "\u001b[1m701/701\u001b[0m \u001b[32m━━━━━━━━━━━━━━━━━━━━\u001b[0m\u001b[37m\u001b[0m \u001b[1m1s\u001b[0m 2ms/step - loss: 0.0124 - mean_squared_error: 0.0124 - val_loss: 0.0205 - val_mean_squared_error: 0.0205\n",
            "Epoch 146/300\n",
            "\u001b[1m701/701\u001b[0m \u001b[32m━━━━━━━━━━━━━━━━━━━━\u001b[0m\u001b[37m\u001b[0m \u001b[1m1s\u001b[0m 2ms/step - loss: 0.0209 - mean_squared_error: 0.0209 - val_loss: 0.0222 - val_mean_squared_error: 0.0222\n",
            "Epoch 147/300\n",
            "\u001b[1m701/701\u001b[0m \u001b[32m━━━━━━━━━━━━━━━━━━━━\u001b[0m\u001b[37m\u001b[0m \u001b[1m1s\u001b[0m 2ms/step - loss: 0.0096 - mean_squared_error: 0.0096 - val_loss: 0.0310 - val_mean_squared_error: 0.0310\n",
            "Epoch 148/300\n",
            "\u001b[1m701/701\u001b[0m \u001b[32m━━━━━━━━━━━━━━━━━━━━\u001b[0m\u001b[37m\u001b[0m \u001b[1m1s\u001b[0m 2ms/step - loss: 0.0182 - mean_squared_error: 0.0182 - val_loss: 0.0231 - val_mean_squared_error: 0.0231\n",
            "Epoch 149/300\n",
            "\u001b[1m701/701\u001b[0m \u001b[32m━━━━━━━━━━━━━━━━━━━━\u001b[0m\u001b[37m\u001b[0m \u001b[1m1s\u001b[0m 2ms/step - loss: 0.0174 - mean_squared_error: 0.0174 - val_loss: 0.0176 - val_mean_squared_error: 0.0176\n",
            "Epoch 150/300\n",
            "\u001b[1m701/701\u001b[0m \u001b[32m━━━━━━━━━━━━━━━━━━━━\u001b[0m\u001b[37m\u001b[0m \u001b[1m1s\u001b[0m 2ms/step - loss: 0.0095 - mean_squared_error: 0.0095 - val_loss: 0.0195 - val_mean_squared_error: 0.0195\n",
            "Epoch 151/300\n",
            "\u001b[1m701/701\u001b[0m \u001b[32m━━━━━━━━━━━━━━━━━━━━\u001b[0m\u001b[37m\u001b[0m \u001b[1m1s\u001b[0m 2ms/step - loss: 0.0103 - mean_squared_error: 0.0103 - val_loss: 0.0150 - val_mean_squared_error: 0.0150\n",
            "Epoch 152/300\n",
            "\u001b[1m701/701\u001b[0m \u001b[32m━━━━━━━━━━━━━━━━━━━━\u001b[0m\u001b[37m\u001b[0m \u001b[1m1s\u001b[0m 2ms/step - loss: 0.0157 - mean_squared_error: 0.0157 - val_loss: 0.0188 - val_mean_squared_error: 0.0188\n",
            "Epoch 153/300\n",
            "\u001b[1m701/701\u001b[0m \u001b[32m━━━━━━━━━━━━━━━━━━━━\u001b[0m\u001b[37m\u001b[0m \u001b[1m1s\u001b[0m 2ms/step - loss: 0.0151 - mean_squared_error: 0.0151 - val_loss: 0.0318 - val_mean_squared_error: 0.0318\n",
            "Epoch 154/300\n",
            "\u001b[1m701/701\u001b[0m \u001b[32m━━━━━━━━━━━━━━━━━━━━\u001b[0m\u001b[37m\u001b[0m \u001b[1m1s\u001b[0m 2ms/step - loss: 0.0187 - mean_squared_error: 0.0187 - val_loss: 0.0160 - val_mean_squared_error: 0.0160\n",
            "Epoch 155/300\n",
            "\u001b[1m701/701\u001b[0m \u001b[32m━━━━━━━━━━━━━━━━━━━━\u001b[0m\u001b[37m\u001b[0m \u001b[1m1s\u001b[0m 2ms/step - loss: 0.0096 - mean_squared_error: 0.0096 - val_loss: 0.0367 - val_mean_squared_error: 0.0367\n",
            "Epoch 156/300\n",
            "\u001b[1m701/701\u001b[0m \u001b[32m━━━━━━━━━━━━━━━━━━━━\u001b[0m\u001b[37m\u001b[0m \u001b[1m1s\u001b[0m 2ms/step - loss: 0.0126 - mean_squared_error: 0.0126 - val_loss: 0.0133 - val_mean_squared_error: 0.0133\n",
            "Epoch 157/300\n",
            "\u001b[1m701/701\u001b[0m \u001b[32m━━━━━━━━━━━━━━━━━━━━\u001b[0m\u001b[37m\u001b[0m \u001b[1m1s\u001b[0m 2ms/step - loss: 0.0162 - mean_squared_error: 0.0162 - val_loss: 0.0146 - val_mean_squared_error: 0.0146\n",
            "Epoch 158/300\n",
            "\u001b[1m701/701\u001b[0m \u001b[32m━━━━━━━━━━━━━━━━━━━━\u001b[0m\u001b[37m\u001b[0m \u001b[1m1s\u001b[0m 2ms/step - loss: 0.0075 - mean_squared_error: 0.0075 - val_loss: 0.0245 - val_mean_squared_error: 0.0245\n",
            "Epoch 159/300\n",
            "\u001b[1m701/701\u001b[0m \u001b[32m━━━━━━━━━━━━━━━━━━━━\u001b[0m\u001b[37m\u001b[0m \u001b[1m1s\u001b[0m 2ms/step - loss: 0.0199 - mean_squared_error: 0.0199 - val_loss: 0.0167 - val_mean_squared_error: 0.0167\n",
            "Epoch 160/300\n",
            "\u001b[1m701/701\u001b[0m \u001b[32m━━━━━━━━━━━━━━━━━━━━\u001b[0m\u001b[37m\u001b[0m \u001b[1m1s\u001b[0m 2ms/step - loss: 0.0143 - mean_squared_error: 0.0143 - val_loss: 0.0210 - val_mean_squared_error: 0.0210\n",
            "Epoch 161/300\n",
            "\u001b[1m701/701\u001b[0m \u001b[32m━━━━━━━━━━━━━━━━━━━━\u001b[0m\u001b[37m\u001b[0m \u001b[1m1s\u001b[0m 2ms/step - loss: 0.0108 - mean_squared_error: 0.0108 - val_loss: 0.0250 - val_mean_squared_error: 0.0250\n",
            "Epoch 162/300\n",
            "\u001b[1m701/701\u001b[0m \u001b[32m━━━━━━━━━━━━━━━━━━━━\u001b[0m\u001b[37m\u001b[0m \u001b[1m1s\u001b[0m 2ms/step - loss: 0.0136 - mean_squared_error: 0.0136 - val_loss: 0.0216 - val_mean_squared_error: 0.0216\n",
            "Epoch 163/300\n",
            "\u001b[1m701/701\u001b[0m \u001b[32m━━━━━━━━━━━━━━━━━━━━\u001b[0m\u001b[37m\u001b[0m \u001b[1m1s\u001b[0m 2ms/step - loss: 0.0148 - mean_squared_error: 0.0148 - val_loss: 0.0149 - val_mean_squared_error: 0.0149\n",
            "Epoch 164/300\n",
            "\u001b[1m701/701\u001b[0m \u001b[32m━━━━━━━━━━━━━━━━━━━━\u001b[0m\u001b[37m\u001b[0m \u001b[1m1s\u001b[0m 2ms/step - loss: 0.0124 - mean_squared_error: 0.0124 - val_loss: 0.0150 - val_mean_squared_error: 0.0150\n",
            "Epoch 165/300\n",
            "\u001b[1m701/701\u001b[0m \u001b[32m━━━━━━━━━━━━━━━━━━━━\u001b[0m\u001b[37m\u001b[0m \u001b[1m1s\u001b[0m 2ms/step - loss: 0.0106 - mean_squared_error: 0.0106 - val_loss: 0.0148 - val_mean_squared_error: 0.0148\n",
            "Epoch 166/300\n",
            "\u001b[1m701/701\u001b[0m \u001b[32m━━━━━━━━━━━━━━━━━━━━\u001b[0m\u001b[37m\u001b[0m \u001b[1m1s\u001b[0m 2ms/step - loss: 0.0113 - mean_squared_error: 0.0113 - val_loss: 0.0157 - val_mean_squared_error: 0.0157\n",
            "Epoch 167/300\n",
            "\u001b[1m701/701\u001b[0m \u001b[32m━━━━━━━━━━━━━━━━━━━━\u001b[0m\u001b[37m\u001b[0m \u001b[1m1s\u001b[0m 2ms/step - loss: 0.0115 - mean_squared_error: 0.0115 - val_loss: 0.0208 - val_mean_squared_error: 0.0208\n",
            "Epoch 168/300\n",
            "\u001b[1m701/701\u001b[0m \u001b[32m━━━━━━━━━━━━━━━━━━━━\u001b[0m\u001b[37m\u001b[0m \u001b[1m1s\u001b[0m 2ms/step - loss: 0.0203 - mean_squared_error: 0.0203 - val_loss: 0.0242 - val_mean_squared_error: 0.0242\n",
            "Epoch 169/300\n",
            "\u001b[1m701/701\u001b[0m \u001b[32m━━━━━━━━━━━━━━━━━━━━\u001b[0m\u001b[37m\u001b[0m \u001b[1m1s\u001b[0m 2ms/step - loss: 0.0105 - mean_squared_error: 0.0105 - val_loss: 0.0161 - val_mean_squared_error: 0.0161\n",
            "Epoch 170/300\n",
            "\u001b[1m701/701\u001b[0m \u001b[32m━━━━━━━━━━━━━━━━━━━━\u001b[0m\u001b[37m\u001b[0m \u001b[1m1s\u001b[0m 2ms/step - loss: 0.0120 - mean_squared_error: 0.0120 - val_loss: 0.0192 - val_mean_squared_error: 0.0192\n",
            "Epoch 171/300\n",
            "\u001b[1m701/701\u001b[0m \u001b[32m━━━━━━━━━━━━━━━━━━━━\u001b[0m\u001b[37m\u001b[0m \u001b[1m1s\u001b[0m 2ms/step - loss: 0.0134 - mean_squared_error: 0.0134 - val_loss: 0.0189 - val_mean_squared_error: 0.0189\n",
            "Epoch 172/300\n",
            "\u001b[1m701/701\u001b[0m \u001b[32m━━━━━━━━━━━━━━━━━━━━\u001b[0m\u001b[37m\u001b[0m \u001b[1m1s\u001b[0m 2ms/step - loss: 0.0101 - mean_squared_error: 0.0101 - val_loss: 0.0166 - val_mean_squared_error: 0.0166\n",
            "Epoch 173/300\n",
            "\u001b[1m701/701\u001b[0m \u001b[32m━━━━━━━━━━━━━━━━━━━━\u001b[0m\u001b[37m\u001b[0m \u001b[1m1s\u001b[0m 2ms/step - loss: 0.0126 - mean_squared_error: 0.0126 - val_loss: 0.0157 - val_mean_squared_error: 0.0157\n",
            "Epoch 174/300\n",
            "\u001b[1m701/701\u001b[0m \u001b[32m━━━━━━━━━━━━━━━━━━━━\u001b[0m\u001b[37m\u001b[0m \u001b[1m1s\u001b[0m 2ms/step - loss: 0.0104 - mean_squared_error: 0.0104 - val_loss: 0.0153 - val_mean_squared_error: 0.0153\n",
            "Epoch 175/300\n",
            "\u001b[1m701/701\u001b[0m \u001b[32m━━━━━━━━━━━━━━━━━━━━\u001b[0m\u001b[37m\u001b[0m \u001b[1m1s\u001b[0m 2ms/step - loss: 0.0123 - mean_squared_error: 0.0123 - val_loss: 0.0185 - val_mean_squared_error: 0.0185\n",
            "Epoch 176/300\n",
            "\u001b[1m701/701\u001b[0m \u001b[32m━━━━━━━━━━━━━━━━━━━━\u001b[0m\u001b[37m\u001b[0m \u001b[1m1s\u001b[0m 2ms/step - loss: 0.0114 - mean_squared_error: 0.0114 - val_loss: 0.0202 - val_mean_squared_error: 0.0202\n",
            "Epoch 177/300\n",
            "\u001b[1m701/701\u001b[0m \u001b[32m━━━━━━━━━━━━━━━━━━━━\u001b[0m\u001b[37m\u001b[0m \u001b[1m1s\u001b[0m 2ms/step - loss: 0.0147 - mean_squared_error: 0.0147 - val_loss: 0.0162 - val_mean_squared_error: 0.0162\n",
            "Epoch 178/300\n",
            "\u001b[1m701/701\u001b[0m \u001b[32m━━━━━━━━━━━━━━━━━━━━\u001b[0m\u001b[37m\u001b[0m \u001b[1m1s\u001b[0m 2ms/step - loss: 0.0110 - mean_squared_error: 0.0110 - val_loss: 0.0130 - val_mean_squared_error: 0.0130\n",
            "Epoch 179/300\n",
            "\u001b[1m701/701\u001b[0m \u001b[32m━━━━━━━━━━━━━━━━━━━━\u001b[0m\u001b[37m\u001b[0m \u001b[1m1s\u001b[0m 2ms/step - loss: 0.0158 - mean_squared_error: 0.0158 - val_loss: 0.0163 - val_mean_squared_error: 0.0163\n",
            "Epoch 180/300\n",
            "\u001b[1m701/701\u001b[0m \u001b[32m━━━━━━━━━━━━━━━━━━━━\u001b[0m\u001b[37m\u001b[0m \u001b[1m1s\u001b[0m 2ms/step - loss: 0.0158 - mean_squared_error: 0.0158 - val_loss: 0.0147 - val_mean_squared_error: 0.0147\n",
            "Epoch 181/300\n",
            "\u001b[1m701/701\u001b[0m \u001b[32m━━━━━━━━━━━━━━━━━━━━\u001b[0m\u001b[37m\u001b[0m \u001b[1m1s\u001b[0m 2ms/step - loss: 0.0095 - mean_squared_error: 0.0095 - val_loss: 0.0210 - val_mean_squared_error: 0.0210\n",
            "Epoch 182/300\n",
            "\u001b[1m701/701\u001b[0m \u001b[32m━━━━━━━━━━━━━━━━━━━━\u001b[0m\u001b[37m\u001b[0m \u001b[1m1s\u001b[0m 2ms/step - loss: 0.0129 - mean_squared_error: 0.0129 - val_loss: 0.0343 - val_mean_squared_error: 0.0343\n",
            "Epoch 183/300\n",
            "\u001b[1m701/701\u001b[0m \u001b[32m━━━━━━━━━━━━━━━━━━━━\u001b[0m\u001b[37m\u001b[0m \u001b[1m1s\u001b[0m 2ms/step - loss: 0.0188 - mean_squared_error: 0.0188 - val_loss: 0.0143 - val_mean_squared_error: 0.0143\n",
            "Epoch 184/300\n",
            "\u001b[1m701/701\u001b[0m \u001b[32m━━━━━━━━━━━━━━━━━━━━\u001b[0m\u001b[37m\u001b[0m \u001b[1m1s\u001b[0m 2ms/step - loss: 0.0129 - mean_squared_error: 0.0129 - val_loss: 0.0132 - val_mean_squared_error: 0.0132\n",
            "Epoch 185/300\n",
            "\u001b[1m701/701\u001b[0m \u001b[32m━━━━━━━━━━━━━━━━━━━━\u001b[0m\u001b[37m\u001b[0m \u001b[1m1s\u001b[0m 2ms/step - loss: 0.0086 - mean_squared_error: 0.0086 - val_loss: 0.0256 - val_mean_squared_error: 0.0256\n",
            "Epoch 186/300\n",
            "\u001b[1m701/701\u001b[0m \u001b[32m━━━━━━━━━━━━━━━━━━━━\u001b[0m\u001b[37m\u001b[0m \u001b[1m1s\u001b[0m 2ms/step - loss: 0.0139 - mean_squared_error: 0.0139 - val_loss: 0.0140 - val_mean_squared_error: 0.0140\n",
            "Epoch 187/300\n",
            "\u001b[1m701/701\u001b[0m \u001b[32m━━━━━━━━━━━━━━━━━━━━\u001b[0m\u001b[37m\u001b[0m \u001b[1m1s\u001b[0m 2ms/step - loss: 0.0129 - mean_squared_error: 0.0129 - val_loss: 0.0187 - val_mean_squared_error: 0.0187\n",
            "Epoch 188/300\n",
            "\u001b[1m701/701\u001b[0m \u001b[32m━━━━━━━━━━━━━━━━━━━━\u001b[0m\u001b[37m\u001b[0m \u001b[1m1s\u001b[0m 2ms/step - loss: 0.0121 - mean_squared_error: 0.0121 - val_loss: 0.0198 - val_mean_squared_error: 0.0198\n",
            "Epoch 189/300\n",
            "\u001b[1m701/701\u001b[0m \u001b[32m━━━━━━━━━━━━━━━━━━━━\u001b[0m\u001b[37m\u001b[0m \u001b[1m1s\u001b[0m 2ms/step - loss: 0.0148 - mean_squared_error: 0.0148 - val_loss: 0.0105 - val_mean_squared_error: 0.0105\n",
            "Epoch 190/300\n",
            "\u001b[1m701/701\u001b[0m \u001b[32m━━━━━━━━━━━━━━━━━━━━\u001b[0m\u001b[37m\u001b[0m \u001b[1m1s\u001b[0m 2ms/step - loss: 0.0138 - mean_squared_error: 0.0138 - val_loss: 0.0152 - val_mean_squared_error: 0.0152\n",
            "Epoch 191/300\n",
            "\u001b[1m701/701\u001b[0m \u001b[32m━━━━━━━━━━━━━━━━━━━━\u001b[0m\u001b[37m\u001b[0m \u001b[1m1s\u001b[0m 2ms/step - loss: 0.0136 - mean_squared_error: 0.0136 - val_loss: 0.0182 - val_mean_squared_error: 0.0182\n",
            "Epoch 192/300\n",
            "\u001b[1m701/701\u001b[0m \u001b[32m━━━━━━━━━━━━━━━━━━━━\u001b[0m\u001b[37m\u001b[0m \u001b[1m1s\u001b[0m 2ms/step - loss: 0.0126 - mean_squared_error: 0.0126 - val_loss: 0.0277 - val_mean_squared_error: 0.0277\n",
            "Epoch 193/300\n",
            "\u001b[1m701/701\u001b[0m \u001b[32m━━━━━━━━━━━━━━━━━━━━\u001b[0m\u001b[37m\u001b[0m \u001b[1m1s\u001b[0m 2ms/step - loss: 0.0117 - mean_squared_error: 0.0117 - val_loss: 0.0224 - val_mean_squared_error: 0.0224\n",
            "Epoch 194/300\n",
            "\u001b[1m701/701\u001b[0m \u001b[32m━━━━━━━━━━━━━━━━━━━━\u001b[0m\u001b[37m\u001b[0m \u001b[1m1s\u001b[0m 2ms/step - loss: 0.0103 - mean_squared_error: 0.0103 - val_loss: 0.0134 - val_mean_squared_error: 0.0134\n",
            "Epoch 195/300\n",
            "\u001b[1m701/701\u001b[0m \u001b[32m━━━━━━━━━━━━━━━━━━━━\u001b[0m\u001b[37m\u001b[0m \u001b[1m1s\u001b[0m 2ms/step - loss: 0.0082 - mean_squared_error: 0.0082 - val_loss: 0.0170 - val_mean_squared_error: 0.0170\n",
            "Epoch 196/300\n",
            "\u001b[1m701/701\u001b[0m \u001b[32m━━━━━━━━━━━━━━━━━━━━\u001b[0m\u001b[37m\u001b[0m \u001b[1m1s\u001b[0m 2ms/step - loss: 0.0156 - mean_squared_error: 0.0156 - val_loss: 0.0217 - val_mean_squared_error: 0.0217\n",
            "Epoch 197/300\n",
            "\u001b[1m701/701\u001b[0m \u001b[32m━━━━━━━━━━━━━━━━━━━━\u001b[0m\u001b[37m\u001b[0m \u001b[1m1s\u001b[0m 2ms/step - loss: 0.0168 - mean_squared_error: 0.0168 - val_loss: 0.0129 - val_mean_squared_error: 0.0129\n",
            "Epoch 198/300\n",
            "\u001b[1m701/701\u001b[0m \u001b[32m━━━━━━━━━━━━━━━━━━━━\u001b[0m\u001b[37m\u001b[0m \u001b[1m1s\u001b[0m 2ms/step - loss: 0.0129 - mean_squared_error: 0.0129 - val_loss: 0.0163 - val_mean_squared_error: 0.0163\n",
            "Epoch 199/300\n",
            "\u001b[1m701/701\u001b[0m \u001b[32m━━━━━━━━━━━━━━━━━━━━\u001b[0m\u001b[37m\u001b[0m \u001b[1m1s\u001b[0m 2ms/step - loss: 0.0127 - mean_squared_error: 0.0127 - val_loss: 0.0194 - val_mean_squared_error: 0.0194\n",
            "Epoch 200/300\n",
            "\u001b[1m701/701\u001b[0m \u001b[32m━━━━━━━━━━━━━━━━━━━━\u001b[0m\u001b[37m\u001b[0m \u001b[1m1s\u001b[0m 2ms/step - loss: 0.0095 - mean_squared_error: 0.0095 - val_loss: 0.0145 - val_mean_squared_error: 0.0145\n",
            "Epoch 201/300\n",
            "\u001b[1m701/701\u001b[0m \u001b[32m━━━━━━━━━━━━━━━━━━━━\u001b[0m\u001b[37m\u001b[0m \u001b[1m1s\u001b[0m 2ms/step - loss: 0.0106 - mean_squared_error: 0.0106 - val_loss: 0.0236 - val_mean_squared_error: 0.0236\n",
            "Epoch 202/300\n",
            "\u001b[1m701/701\u001b[0m \u001b[32m━━━━━━━━━━━━━━━━━━━━\u001b[0m\u001b[37m\u001b[0m \u001b[1m1s\u001b[0m 2ms/step - loss: 0.0174 - mean_squared_error: 0.0174 - val_loss: 0.0127 - val_mean_squared_error: 0.0127\n",
            "Epoch 203/300\n",
            "\u001b[1m701/701\u001b[0m \u001b[32m━━━━━━━━━━━━━━━━━━━━\u001b[0m\u001b[37m\u001b[0m \u001b[1m1s\u001b[0m 2ms/step - loss: 0.0111 - mean_squared_error: 0.0111 - val_loss: 0.0176 - val_mean_squared_error: 0.0176\n",
            "Epoch 204/300\n",
            "\u001b[1m701/701\u001b[0m \u001b[32m━━━━━━━━━━━━━━━━━━━━\u001b[0m\u001b[37m\u001b[0m \u001b[1m1s\u001b[0m 2ms/step - loss: 0.0093 - mean_squared_error: 0.0093 - val_loss: 0.0187 - val_mean_squared_error: 0.0187\n",
            "Epoch 205/300\n",
            "\u001b[1m701/701\u001b[0m \u001b[32m━━━━━━━━━━━━━━━━━━━━\u001b[0m\u001b[37m\u001b[0m \u001b[1m1s\u001b[0m 2ms/step - loss: 0.0117 - mean_squared_error: 0.0117 - val_loss: 0.0148 - val_mean_squared_error: 0.0148\n",
            "Epoch 206/300\n",
            "\u001b[1m701/701\u001b[0m \u001b[32m━━━━━━━━━━━━━━━━━━━━\u001b[0m\u001b[37m\u001b[0m \u001b[1m1s\u001b[0m 2ms/step - loss: 0.0132 - mean_squared_error: 0.0132 - val_loss: 0.0194 - val_mean_squared_error: 0.0194\n",
            "Epoch 207/300\n",
            "\u001b[1m701/701\u001b[0m \u001b[32m━━━━━━━━━━━━━━━━━━━━\u001b[0m\u001b[37m\u001b[0m \u001b[1m1s\u001b[0m 2ms/step - loss: 0.0173 - mean_squared_error: 0.0173 - val_loss: 0.0202 - val_mean_squared_error: 0.0202\n",
            "Epoch 208/300\n",
            "\u001b[1m701/701\u001b[0m \u001b[32m━━━━━━━━━━━━━━━━━━━━\u001b[0m\u001b[37m\u001b[0m \u001b[1m1s\u001b[0m 2ms/step - loss: 0.0110 - mean_squared_error: 0.0110 - val_loss: 0.0717 - val_mean_squared_error: 0.0717\n",
            "Epoch 209/300\n",
            "\u001b[1m701/701\u001b[0m \u001b[32m━━━━━━━━━━━━━━━━━━━━\u001b[0m\u001b[37m\u001b[0m \u001b[1m1s\u001b[0m 2ms/step - loss: 0.0248 - mean_squared_error: 0.0248 - val_loss: 0.0190 - val_mean_squared_error: 0.0190\n",
            "Epoch 210/300\n",
            "\u001b[1m701/701\u001b[0m \u001b[32m━━━━━━━━━━━━━━━━━━━━\u001b[0m\u001b[37m\u001b[0m \u001b[1m1s\u001b[0m 2ms/step - loss: 0.0120 - mean_squared_error: 0.0120 - val_loss: 0.0212 - val_mean_squared_error: 0.0212\n",
            "Epoch 211/300\n",
            "\u001b[1m701/701\u001b[0m \u001b[32m━━━━━━━━━━━━━━━━━━━━\u001b[0m\u001b[37m\u001b[0m \u001b[1m1s\u001b[0m 2ms/step - loss: 0.0115 - mean_squared_error: 0.0115 - val_loss: 0.0178 - val_mean_squared_error: 0.0178\n",
            "Epoch 212/300\n",
            "\u001b[1m701/701\u001b[0m \u001b[32m━━━━━━━━━━━━━━━━━━━━\u001b[0m\u001b[37m\u001b[0m \u001b[1m1s\u001b[0m 2ms/step - loss: 0.0094 - mean_squared_error: 0.0094 - val_loss: 0.0263 - val_mean_squared_error: 0.0263\n",
            "Epoch 213/300\n",
            "\u001b[1m701/701\u001b[0m \u001b[32m━━━━━━━━━━━━━━━━━━━━\u001b[0m\u001b[37m\u001b[0m \u001b[1m1s\u001b[0m 2ms/step - loss: 0.0118 - mean_squared_error: 0.0118 - val_loss: 0.0143 - val_mean_squared_error: 0.0143\n",
            "Epoch 214/300\n",
            "\u001b[1m701/701\u001b[0m \u001b[32m━━━━━━━━━━━━━━━━━━━━\u001b[0m\u001b[37m\u001b[0m \u001b[1m1s\u001b[0m 2ms/step - loss: 0.0150 - mean_squared_error: 0.0150 - val_loss: 0.0182 - val_mean_squared_error: 0.0182\n",
            "Epoch 215/300\n",
            "\u001b[1m701/701\u001b[0m \u001b[32m━━━━━━━━━━━━━━━━━━━━\u001b[0m\u001b[37m\u001b[0m \u001b[1m1s\u001b[0m 2ms/step - loss: 0.0140 - mean_squared_error: 0.0140 - val_loss: 0.0212 - val_mean_squared_error: 0.0212\n",
            "Epoch 216/300\n",
            "\u001b[1m701/701\u001b[0m \u001b[32m━━━━━━━━━━━━━━━━━━━━\u001b[0m\u001b[37m\u001b[0m \u001b[1m1s\u001b[0m 2ms/step - loss: 0.0092 - mean_squared_error: 0.0092 - val_loss: 0.0129 - val_mean_squared_error: 0.0129\n",
            "Epoch 217/300\n",
            "\u001b[1m701/701\u001b[0m \u001b[32m━━━━━━━━━━━━━━━━━━━━\u001b[0m\u001b[37m\u001b[0m \u001b[1m1s\u001b[0m 2ms/step - loss: 0.0108 - mean_squared_error: 0.0108 - val_loss: 0.0145 - val_mean_squared_error: 0.0145\n",
            "Epoch 218/300\n",
            "\u001b[1m701/701\u001b[0m \u001b[32m━━━━━━━━━━━━━━━━━━━━\u001b[0m\u001b[37m\u001b[0m \u001b[1m1s\u001b[0m 2ms/step - loss: 0.0098 - mean_squared_error: 0.0098 - val_loss: 0.0124 - val_mean_squared_error: 0.0124\n",
            "Epoch 219/300\n",
            "\u001b[1m701/701\u001b[0m \u001b[32m━━━━━━━━━━━━━━━━━━━━\u001b[0m\u001b[37m\u001b[0m \u001b[1m1s\u001b[0m 2ms/step - loss: 0.0106 - mean_squared_error: 0.0106 - val_loss: 0.0218 - val_mean_squared_error: 0.0218\n",
            "Epoch 220/300\n",
            "\u001b[1m701/701\u001b[0m \u001b[32m━━━━━━━━━━━━━━━━━━━━\u001b[0m\u001b[37m\u001b[0m \u001b[1m1s\u001b[0m 2ms/step - loss: 0.0168 - mean_squared_error: 0.0168 - val_loss: 0.0157 - val_mean_squared_error: 0.0157\n",
            "Epoch 221/300\n",
            "\u001b[1m701/701\u001b[0m \u001b[32m━━━━━━━━━━━━━━━━━━━━\u001b[0m\u001b[37m\u001b[0m \u001b[1m1s\u001b[0m 2ms/step - loss: 0.0154 - mean_squared_error: 0.0154 - val_loss: 0.0153 - val_mean_squared_error: 0.0153\n",
            "Epoch 222/300\n",
            "\u001b[1m701/701\u001b[0m \u001b[32m━━━━━━━━━━━━━━━━━━━━\u001b[0m\u001b[37m\u001b[0m \u001b[1m1s\u001b[0m 2ms/step - loss: 0.0120 - mean_squared_error: 0.0120 - val_loss: 0.0209 - val_mean_squared_error: 0.0209\n",
            "Epoch 223/300\n",
            "\u001b[1m701/701\u001b[0m \u001b[32m━━━━━━━━━━━━━━━━━━━━\u001b[0m\u001b[37m\u001b[0m \u001b[1m1s\u001b[0m 2ms/step - loss: 0.0104 - mean_squared_error: 0.0104 - val_loss: 0.0147 - val_mean_squared_error: 0.0147\n",
            "Epoch 224/300\n",
            "\u001b[1m701/701\u001b[0m \u001b[32m━━━━━━━━━━━━━━━━━━━━\u001b[0m\u001b[37m\u001b[0m \u001b[1m1s\u001b[0m 2ms/step - loss: 0.0151 - mean_squared_error: 0.0151 - val_loss: 0.0258 - val_mean_squared_error: 0.0258\n",
            "Epoch 225/300\n",
            "\u001b[1m701/701\u001b[0m \u001b[32m━━━━━━━━━━━━━━━━━━━━\u001b[0m\u001b[37m\u001b[0m \u001b[1m1s\u001b[0m 2ms/step - loss: 0.0107 - mean_squared_error: 0.0107 - val_loss: 0.0141 - val_mean_squared_error: 0.0141\n",
            "Epoch 226/300\n",
            "\u001b[1m701/701\u001b[0m \u001b[32m━━━━━━━━━━━━━━━━━━━━\u001b[0m\u001b[37m\u001b[0m \u001b[1m1s\u001b[0m 2ms/step - loss: 0.0087 - mean_squared_error: 0.0087 - val_loss: 0.0142 - val_mean_squared_error: 0.0142\n",
            "Epoch 227/300\n",
            "\u001b[1m701/701\u001b[0m \u001b[32m━━━━━━━━━━━━━━━━━━━━\u001b[0m\u001b[37m\u001b[0m \u001b[1m1s\u001b[0m 2ms/step - loss: 0.0093 - mean_squared_error: 0.0093 - val_loss: 0.0158 - val_mean_squared_error: 0.0158\n",
            "Epoch 228/300\n",
            "\u001b[1m701/701\u001b[0m \u001b[32m━━━━━━━━━━━━━━━━━━━━\u001b[0m\u001b[37m\u001b[0m \u001b[1m1s\u001b[0m 2ms/step - loss: 0.0103 - mean_squared_error: 0.0103 - val_loss: 0.0167 - val_mean_squared_error: 0.0167\n",
            "Epoch 229/300\n",
            "\u001b[1m701/701\u001b[0m \u001b[32m━━━━━━━━━━━━━━━━━━━━\u001b[0m\u001b[37m\u001b[0m \u001b[1m1s\u001b[0m 2ms/step - loss: 0.0078 - mean_squared_error: 0.0078 - val_loss: 0.0202 - val_mean_squared_error: 0.0202\n",
            "Epoch 230/300\n",
            "\u001b[1m701/701\u001b[0m \u001b[32m━━━━━━━━━━━━━━━━━━━━\u001b[0m\u001b[37m\u001b[0m \u001b[1m1s\u001b[0m 2ms/step - loss: 0.0124 - mean_squared_error: 0.0124 - val_loss: 0.0148 - val_mean_squared_error: 0.0148\n",
            "Epoch 231/300\n",
            "\u001b[1m701/701\u001b[0m \u001b[32m━━━━━━━━━━━━━━━━━━━━\u001b[0m\u001b[37m\u001b[0m \u001b[1m1s\u001b[0m 2ms/step - loss: 0.0105 - mean_squared_error: 0.0105 - val_loss: 0.0142 - val_mean_squared_error: 0.0142\n",
            "Epoch 232/300\n",
            "\u001b[1m701/701\u001b[0m \u001b[32m━━━━━━━━━━━━━━━━━━━━\u001b[0m\u001b[37m\u001b[0m \u001b[1m1s\u001b[0m 2ms/step - loss: 0.0102 - mean_squared_error: 0.0102 - val_loss: 0.0201 - val_mean_squared_error: 0.0201\n",
            "Epoch 233/300\n",
            "\u001b[1m701/701\u001b[0m \u001b[32m━━━━━━━━━━━━━━━━━━━━\u001b[0m\u001b[37m\u001b[0m \u001b[1m1s\u001b[0m 2ms/step - loss: 0.0115 - mean_squared_error: 0.0115 - val_loss: 0.0306 - val_mean_squared_error: 0.0306\n",
            "Epoch 234/300\n",
            "\u001b[1m701/701\u001b[0m \u001b[32m━━━━━━━━━━━━━━━━━━━━\u001b[0m\u001b[37m\u001b[0m \u001b[1m1s\u001b[0m 2ms/step - loss: 0.0189 - mean_squared_error: 0.0189 - val_loss: 0.0252 - val_mean_squared_error: 0.0252\n",
            "Epoch 235/300\n",
            "\u001b[1m701/701\u001b[0m \u001b[32m━━━━━━━━━━━━━━━━━━━━\u001b[0m\u001b[37m\u001b[0m \u001b[1m1s\u001b[0m 2ms/step - loss: 0.0078 - mean_squared_error: 0.0078 - val_loss: 0.0279 - val_mean_squared_error: 0.0279\n",
            "Epoch 236/300\n",
            "\u001b[1m701/701\u001b[0m \u001b[32m━━━━━━━━━━━━━━━━━━━━\u001b[0m\u001b[37m\u001b[0m \u001b[1m1s\u001b[0m 2ms/step - loss: 0.0145 - mean_squared_error: 0.0145 - val_loss: 0.0137 - val_mean_squared_error: 0.0137\n",
            "Epoch 237/300\n",
            "\u001b[1m701/701\u001b[0m \u001b[32m━━━━━━━━━━━━━━━━━━━━\u001b[0m\u001b[37m\u001b[0m \u001b[1m1s\u001b[0m 2ms/step - loss: 0.0092 - mean_squared_error: 0.0092 - val_loss: 0.0223 - val_mean_squared_error: 0.0223\n",
            "Epoch 238/300\n",
            "\u001b[1m701/701\u001b[0m \u001b[32m━━━━━━━━━━━━━━━━━━━━\u001b[0m\u001b[37m\u001b[0m \u001b[1m1s\u001b[0m 2ms/step - loss: 0.0125 - mean_squared_error: 0.0125 - val_loss: 0.0175 - val_mean_squared_error: 0.0175\n",
            "Epoch 239/300\n",
            "\u001b[1m701/701\u001b[0m \u001b[32m━━━━━━━━━━━━━━━━━━━━\u001b[0m\u001b[37m\u001b[0m \u001b[1m1s\u001b[0m 2ms/step - loss: 0.0133 - mean_squared_error: 0.0133 - val_loss: 0.0203 - val_mean_squared_error: 0.0203\n",
            "Epoch 240/300\n",
            "\u001b[1m701/701\u001b[0m \u001b[32m━━━━━━━━━━━━━━━━━━━━\u001b[0m\u001b[37m\u001b[0m \u001b[1m1s\u001b[0m 2ms/step - loss: 0.0098 - mean_squared_error: 0.0098 - val_loss: 0.0164 - val_mean_squared_error: 0.0164\n",
            "Epoch 241/300\n",
            "\u001b[1m701/701\u001b[0m \u001b[32m━━━━━━━━━━━━━━━━━━━━\u001b[0m\u001b[37m\u001b[0m \u001b[1m1s\u001b[0m 2ms/step - loss: 0.0128 - mean_squared_error: 0.0128 - val_loss: 0.0152 - val_mean_squared_error: 0.0152\n",
            "Epoch 242/300\n",
            "\u001b[1m701/701\u001b[0m \u001b[32m━━━━━━━━━━━━━━━━━━━━\u001b[0m\u001b[37m\u001b[0m \u001b[1m1s\u001b[0m 2ms/step - loss: 0.0100 - mean_squared_error: 0.0100 - val_loss: 0.0146 - val_mean_squared_error: 0.0146\n",
            "Epoch 243/300\n",
            "\u001b[1m701/701\u001b[0m \u001b[32m━━━━━━━━━━━━━━━━━━━━\u001b[0m\u001b[37m\u001b[0m \u001b[1m1s\u001b[0m 2ms/step - loss: 0.0107 - mean_squared_error: 0.0107 - val_loss: 0.0147 - val_mean_squared_error: 0.0147\n",
            "Epoch 244/300\n",
            "\u001b[1m701/701\u001b[0m \u001b[32m━━━━━━━━━━━━━━━━━━━━\u001b[0m\u001b[37m\u001b[0m \u001b[1m1s\u001b[0m 2ms/step - loss: 0.0115 - mean_squared_error: 0.0115 - val_loss: 0.0152 - val_mean_squared_error: 0.0152\n",
            "Epoch 245/300\n",
            "\u001b[1m701/701\u001b[0m \u001b[32m━━━━━━━━━━━━━━━━━━━━\u001b[0m\u001b[37m\u001b[0m \u001b[1m1s\u001b[0m 2ms/step - loss: 0.0117 - mean_squared_error: 0.0117 - val_loss: 0.0157 - val_mean_squared_error: 0.0157\n",
            "Epoch 246/300\n",
            "\u001b[1m701/701\u001b[0m \u001b[32m━━━━━━━━━━━━━━━━━━━━\u001b[0m\u001b[37m\u001b[0m \u001b[1m1s\u001b[0m 2ms/step - loss: 0.0094 - mean_squared_error: 0.0094 - val_loss: 0.0223 - val_mean_squared_error: 0.0223\n",
            "Epoch 247/300\n",
            "\u001b[1m701/701\u001b[0m \u001b[32m━━━━━━━━━━━━━━━━━━━━\u001b[0m\u001b[37m\u001b[0m \u001b[1m1s\u001b[0m 2ms/step - loss: 0.0118 - mean_squared_error: 0.0118 - val_loss: 0.0201 - val_mean_squared_error: 0.0201\n",
            "Epoch 248/300\n",
            "\u001b[1m701/701\u001b[0m \u001b[32m━━━━━━━━━━━━━━━━━━━━\u001b[0m\u001b[37m\u001b[0m \u001b[1m1s\u001b[0m 2ms/step - loss: 0.0118 - mean_squared_error: 0.0118 - val_loss: 0.0122 - val_mean_squared_error: 0.0122\n",
            "Epoch 249/300\n",
            "\u001b[1m701/701\u001b[0m \u001b[32m━━━━━━━━━━━━━━━━━━━━\u001b[0m\u001b[37m\u001b[0m \u001b[1m1s\u001b[0m 2ms/step - loss: 0.0091 - mean_squared_error: 0.0091 - val_loss: 0.0151 - val_mean_squared_error: 0.0151\n",
            "Epoch 250/300\n",
            "\u001b[1m701/701\u001b[0m \u001b[32m━━━━━━━━━━━━━━━━━━━━\u001b[0m\u001b[37m\u001b[0m \u001b[1m1s\u001b[0m 2ms/step - loss: 0.0120 - mean_squared_error: 0.0120 - val_loss: 0.0165 - val_mean_squared_error: 0.0165\n",
            "Epoch 251/300\n",
            "\u001b[1m701/701\u001b[0m \u001b[32m━━━━━━━━━━━━━━━━━━━━\u001b[0m\u001b[37m\u001b[0m \u001b[1m1s\u001b[0m 2ms/step - loss: 0.0106 - mean_squared_error: 0.0106 - val_loss: 0.0166 - val_mean_squared_error: 0.0166\n",
            "Epoch 252/300\n",
            "\u001b[1m701/701\u001b[0m \u001b[32m━━━━━━━━━━━━━━━━━━━━\u001b[0m\u001b[37m\u001b[0m \u001b[1m1s\u001b[0m 2ms/step - loss: 0.0136 - mean_squared_error: 0.0136 - val_loss: 0.0162 - val_mean_squared_error: 0.0162\n",
            "Epoch 253/300\n",
            "\u001b[1m701/701\u001b[0m \u001b[32m━━━━━━━━━━━━━━━━━━━━\u001b[0m\u001b[37m\u001b[0m \u001b[1m1s\u001b[0m 2ms/step - loss: 0.0149 - mean_squared_error: 0.0149 - val_loss: 0.0163 - val_mean_squared_error: 0.0163\n",
            "Epoch 254/300\n",
            "\u001b[1m701/701\u001b[0m \u001b[32m━━━━━━━━━━━━━━━━━━━━\u001b[0m\u001b[37m\u001b[0m \u001b[1m1s\u001b[0m 2ms/step - loss: 0.0096 - mean_squared_error: 0.0096 - val_loss: 0.0210 - val_mean_squared_error: 0.0210\n",
            "Epoch 255/300\n",
            "\u001b[1m701/701\u001b[0m \u001b[32m━━━━━━━━━━━━━━━━━━━━\u001b[0m\u001b[37m\u001b[0m \u001b[1m1s\u001b[0m 2ms/step - loss: 0.0093 - mean_squared_error: 0.0093 - val_loss: 0.0331 - val_mean_squared_error: 0.0331\n",
            "Epoch 256/300\n",
            "\u001b[1m701/701\u001b[0m \u001b[32m━━━━━━━━━━━━━━━━━━━━\u001b[0m\u001b[37m\u001b[0m \u001b[1m1s\u001b[0m 2ms/step - loss: 0.0166 - mean_squared_error: 0.0166 - val_loss: 0.0134 - val_mean_squared_error: 0.0134\n",
            "Epoch 257/300\n",
            "\u001b[1m701/701\u001b[0m \u001b[32m━━━━━━━━━━━━━━━━━━━━\u001b[0m\u001b[37m\u001b[0m \u001b[1m1s\u001b[0m 2ms/step - loss: 0.0120 - mean_squared_error: 0.0120 - val_loss: 0.0173 - val_mean_squared_error: 0.0173\n",
            "Epoch 258/300\n",
            "\u001b[1m 67/701\u001b[0m \u001b[32m━\u001b[0m\u001b[37m━━━━━━━━━━━━━━━━━━━\u001b[0m \u001b[1m0s\u001b[0m 2ms/step - loss: 0.0154 - mean_squared_error: 0.0154"
          ]
        }
      ],
      "source": [
        "history = model.fit(X_train, y_train, batch_size= 16, epochs= 300, verbose=1, validation_split=0.2)"
      ]
    },
    {
      "cell_type": "code",
      "execution_count": null,
      "metadata": {
        "colab": {
          "base_uri": "https://localhost:8080/",
          "height": 488
        },
        "id": "FHubMQ4A44qr",
        "outputId": "9b4d7db0-8683-4bde-971d-e85b82c36087"
      },
      "outputs": [
        {
          "output_type": "execute_result",
          "data": {
            "text/plain": [
              "<Figure size 10000x2500 with 0 Axes>"
            ]
          },
          "metadata": {},
          "execution_count": 62
        },
        {
          "output_type": "display_data",
          "data": {
            "text/plain": [
              "<Figure size 640x480 with 1 Axes>"
            ],
            "image/png": "[encoded data removed]"
          },
          "metadata": {}
        },
        {
          "output_type": "display_data",
          "data": {
            "text/plain": [
              "<Figure size 10000x2500 with 0 Axes>"
            ]
          },
          "metadata": {}
        }
      ],
      "source": [
        "plt.plot(history.history[\"loss\"])\n",
        "plt.plot(history.history[\"val_loss\"])\n",
        "plt.xlabel(\"Epochs\")\n",
        "plt.ylabel(\"loss\")\n",
        "plt.legend([\"Training\",\"Validation\"])\n",
        "plt.figure(figsize = (20,5), dpi = (500))"
      ]
    },
    {
      "cell_type": "code",
      "execution_count": null,
      "metadata": {
        "colab": {
          "base_uri": "https://localhost:8080/"
        },
        "id": "8CjmmNMhaqzf",
        "outputId": "9d2d5ae8-8cef-471d-f94d-85b4f5c68fde"
      },
      "outputs": [
        {
          "output_type": "stream",
          "name": "stdout",
          "text": [
            "\u001b[1m146/146\u001b[0m \u001b[32m━━━━━━━━━━━━━━━━━━━━\u001b[0m\u001b[37m\u001b[0m \u001b[1m0s\u001b[0m 1ms/step\n",
            "Predicted labels:  [[4.]\n",
            " [5.]\n",
            " [4.]\n",
            " [4.]\n",
            " [4.]\n",
            " [4.]\n",
            " [7.]\n",
            " [4.]\n",
            " [4.]\n",
            " [5.]]\n",
            "Actual labels :  [3.6 4.9 4.4 4.1 3.8 4.3 7.2 4.3 4.3 4.6]\n"
          ]
        }
      ],
      "source": [
        "predictions = model.predict(X_test)\n",
        "np.set_printoptions(suppress=True)\n",
        "print('Predicted labels: ', np.around(predictions)[:10])\n",
        "print('Actual labels : ' ,y_test[:10])"
      ]
    },
    {
      "cell_type": "code",
      "execution_count": null,
      "metadata": {
        "colab": {
          "base_uri": "https://localhost:8080/"
        },
        "id": "UyHrPqnS5JW4",
        "outputId": "dbd7095d-5c7b-4859-df17-c969545071e0"
      },
      "outputs": [
        {
          "output_type": "execute_result",
          "data": {
            "text/plain": [
              "0.8650128016866074"
            ]
          },
          "metadata": {},
          "execution_count": 64
        }
      ],
      "source": [
        "from sklearn.metrics import r2_score\n",
        "y_true = np.around(predictions)\n",
        "y_pred = y_test\n",
        "r2_score(y_true, y_pred)"
      ]
    },
    {
      "cell_type": "code",
      "execution_count": null,
      "metadata": {
        "colab": {
          "base_uri": "https://localhost:8080/",
          "height": 508
        },
        "id": "jc9Qa4a75VR-",
        "outputId": "14fd5980-395e-4819-b12a-b2c7a41594b9"
      },
      "outputs": [
        {
          "output_type": "execute_result",
          "data": {
            "text/plain": [
              "<Figure size 12500x2500 with 0 Axes>"
            ]
          },
          "metadata": {},
          "execution_count": 65
        },
        {
          "output_type": "display_data",
          "data": {
            "text/plain": [
              "<Figure size 640x480 with 1 Axes>"
            ],
            "image/png": "[encoded data removed]"
          },
          "metadata": {}
        },
        {
          "output_type": "display_data",
          "data": {
            "text/plain": [
              "<Figure size 12500x2500 with 0 Axes>"
            ]
          },
          "metadata": {}
        }
      ],
      "source": [
        "plt.scatter(y_test, predictions)\n",
        "plt.xlabel('Actual Labels')\n",
        "plt.ylabel('Predicted Labels')\n",
        "plt.title('Magnitude Prediction')\n",
        "lims = [0, 8]\n",
        "plt.xlim(lims)\n",
        "plt.ylim(lims)\n",
        "_ = plt.plot(lims, lims)\n",
        "plt.figure(figsize = (25,5), dpi = (500))"
      ]
    },
    {
      "cell_type": "code",
      "execution_count": null,
      "metadata": {
        "id": "4sJ01Nct5c4S"
      },
      "outputs": [],
      "source": [
        "my_model = model"
      ]
    },
    {
      "cell_type": "code",
      "execution_count": null,
      "metadata": {
        "id": "-k6tGsQSUDrJ"
      },
      "outputs": [],
      "source": [
        "model.save('my_model.keras')"
      ]
    },
    {
      "cell_type": "code",
      "execution_count": null,
      "metadata": {
        "colab": {
          "base_uri": "https://localhost:8080/"
        },
        "id": "p29yXk2RY9vo",
        "outputId": "e96ee934-c31a-40b2-f91a-135caa759718"
      },
      "outputs": [
        {
          "output_type": "stream",
          "name": "stdout",
          "text": [
            "Mounted at /content/drive\n"
          ]
        }
      ],
      "source": [
        "from google.colab import drive\n",
        "drive.mount('/content/drive')\n",
        "\n",
        "# Modeli Google Drive'a kaydedin\n",
        "save_path = '/content/drive/My Drive/saved_models/my_model.keras'\n",
        "model.save(save_path)\n"
      ]
    },
    {
      "cell_type": "code",
      "execution_count": null,
      "metadata": {
        "colab": {
          "base_uri": "https://localhost:8080/",
          "height": 384
        },
        "id": "hjKbsvPjZsqX",
        "outputId": "6c9068b4-ea8e-4420-d2d3-caa6f0cc8568"
      },
      "outputs": [
        {
          "output_type": "display_data",
          "data": {
            "text/plain": [
              "\u001b[1mModel: \"functional_4\"\u001b[0m\n"
            ],
            "text/html": [
              "<pre style=\"white-space:pre;overflow-x:auto;line-height:normal;font-family:Menlo,'DejaVu Sans Mono',consolas,'Courier New',monospace\"><span style=\"font-weight: bold\">Model: \"functional_4\"</span>\n",
              "</pre>\n"
            ]
          },
          "metadata": {}
        },
        {
          "output_type": "display_data",
          "data": {
            "text/plain": [
              "┏━━━━━━━━━━━━━━━━━━━━━━━━━━━━━━━━━━━━━━┳━━━━━━━━━━━━━━━━━━━━━━━━━━━━━┳━━━━━━━━━━━━━━━━━┓\n",
              "┃\u001b[1m \u001b[0m\u001b[1mLayer (type)                        \u001b[0m\u001b[1m \u001b[0m┃\u001b[1m \u001b[0m\u001b[1mOutput Shape               \u001b[0m\u001b[1m \u001b[0m┃\u001b[1m \u001b[0m\u001b[1m        Param #\u001b[0m\u001b[1m \u001b[0m┃\n",
              "┡━━━━━━━━━━━━━━━━━━━━━━━━━━━━━━━━━━━━━━╇━━━━━━━━━━━━━━━━━━━━━━━━━━━━━╇━━━━━━━━━━━━━━━━━┩\n",
              "│ input_layer_4 (\u001b[38;5;33mInputLayer\u001b[0m)           │ (\u001b[38;5;45mNone\u001b[0m, \u001b[38;5;34m13\u001b[0m)                  │               \u001b[38;5;34m0\u001b[0m │\n",
              "├──────────────────────────────────────┼─────────────────────────────┼─────────────────┤\n",
              "│ dense_20 (\u001b[38;5;33mDense\u001b[0m)                     │ (\u001b[38;5;45mNone\u001b[0m, \u001b[38;5;34m256\u001b[0m)                 │           \u001b[38;5;34m3,584\u001b[0m │\n",
              "├──────────────────────────────────────┼─────────────────────────────┼─────────────────┤\n",
              "│ dense_21 (\u001b[38;5;33mDense\u001b[0m)                     │ (\u001b[38;5;45mNone\u001b[0m, \u001b[38;5;34m128\u001b[0m)                 │          \u001b[38;5;34m32,896\u001b[0m │\n",
              "├──────────────────────────────────────┼─────────────────────────────┼─────────────────┤\n",
              "│ dense_22 (\u001b[38;5;33mDense\u001b[0m)                     │ (\u001b[38;5;45mNone\u001b[0m, \u001b[38;5;34m64\u001b[0m)                  │           \u001b[38;5;34m8,256\u001b[0m │\n",
              "├──────────────────────────────────────┼─────────────────────────────┼─────────────────┤\n",
              "│ dense_23 (\u001b[38;5;33mDense\u001b[0m)                     │ (\u001b[38;5;45mNone\u001b[0m, \u001b[38;5;34m32\u001b[0m)                  │           \u001b[38;5;34m2,080\u001b[0m │\n",
              "├──────────────────────────────────────┼─────────────────────────────┼─────────────────┤\n",
              "│ dense_24 (\u001b[38;5;33mDense\u001b[0m)                     │ (\u001b[38;5;45mNone\u001b[0m, \u001b[38;5;34m1\u001b[0m)                   │              \u001b[38;5;34m33\u001b[0m │\n",
              "└──────────────────────────────────────┴─────────────────────────────┴─────────────────┘\n"
            ],
            "text/html": [
              "<pre style=\"white-space:pre;overflow-x:auto;line-height:normal;font-family:Menlo,'DejaVu Sans Mono',consolas,'Courier New',monospace\">┏━━━━━━━━━━━━━━━━━━━━━━━━━━━━━━━━━━━━━━┳━━━━━━━━━━━━━━━━━━━━━━━━━━━━━┳━━━━━━━━━━━━━━━━━┓\n",
              "┃<span style=\"font-weight: bold\"> Layer (type)                         </span>┃<span style=\"font-weight: bold\"> Output Shape                </span>┃<span style=\"font-weight: bold\">         Param # </span>┃\n",
              "┡━━━━━━━━━━━━━━━━━━━━━━━━━━━━━━━━━━━━━━╇━━━━━━━━━━━━━━━━━━━━━━━━━━━━━╇━━━━━━━━━━━━━━━━━┩\n",
              "│ input_layer_4 (<span style=\"color: #0087ff; text-decoration-color: #0087ff\">InputLayer</span>)           │ (<span style=\"color: #00d7ff; text-decoration-color: #00d7ff\">None</span>, <span style=\"color: #00af00; text-decoration-color: #00af00\">13</span>)                  │               <span style=\"color: #00af00; text-decoration-color: #00af00\">0</span> │\n",
              "├──────────────────────────────────────┼─────────────────────────────┼─────────────────┤\n",
              "│ dense_20 (<span style=\"color: #0087ff; text-decoration-color: #0087ff\">Dense</span>)                     │ (<span style=\"color: #00d7ff; text-decoration-color: #00d7ff\">None</span>, <span style=\"color: #00af00; text-decoration-color: #00af00\">256</span>)                 │           <span style=\"color: #00af00; text-decoration-color: #00af00\">3,584</span> │\n",
              "├──────────────────────────────────────┼─────────────────────────────┼─────────────────┤\n",
              "│ dense_21 (<span style=\"color: #0087ff; text-decoration-color: #0087ff\">Dense</span>)                     │ (<span style=\"color: #00d7ff; text-decoration-color: #00d7ff\">None</span>, <span style=\"color: #00af00; text-decoration-color: #00af00\">128</span>)                 │          <span style=\"color: #00af00; text-decoration-color: #00af00\">32,896</span> │\n",
              "├──────────────────────────────────────┼─────────────────────────────┼─────────────────┤\n",
              "│ dense_22 (<span style=\"color: #0087ff; text-decoration-color: #0087ff\">Dense</span>)                     │ (<span style=\"color: #00d7ff; text-decoration-color: #00d7ff\">None</span>, <span style=\"color: #00af00; text-decoration-color: #00af00\">64</span>)                  │           <span style=\"color: #00af00; text-decoration-color: #00af00\">8,256</span> │\n",
              "├──────────────────────────────────────┼─────────────────────────────┼─────────────────┤\n",
              "│ dense_23 (<span style=\"color: #0087ff; text-decoration-color: #0087ff\">Dense</span>)                     │ (<span style=\"color: #00d7ff; text-decoration-color: #00d7ff\">None</span>, <span style=\"color: #00af00; text-decoration-color: #00af00\">32</span>)                  │           <span style=\"color: #00af00; text-decoration-color: #00af00\">2,080</span> │\n",
              "├──────────────────────────────────────┼─────────────────────────────┼─────────────────┤\n",
              "│ dense_24 (<span style=\"color: #0087ff; text-decoration-color: #0087ff\">Dense</span>)                     │ (<span style=\"color: #00d7ff; text-decoration-color: #00d7ff\">None</span>, <span style=\"color: #00af00; text-decoration-color: #00af00\">1</span>)                   │              <span style=\"color: #00af00; text-decoration-color: #00af00\">33</span> │\n",
              "└──────────────────────────────────────┴─────────────────────────────┴─────────────────┘\n",
              "</pre>\n"
            ]
          },
          "metadata": {}
        },
        {
          "output_type": "display_data",
          "data": {
            "text/plain": [
              "\u001b[1m Total params: \u001b[0m\u001b[38;5;34m140,549\u001b[0m (549.02 KB)\n"
            ],
            "text/html": [
              "<pre style=\"white-space:pre;overflow-x:auto;line-height:normal;font-family:Menlo,'DejaVu Sans Mono',consolas,'Courier New',monospace\"><span style=\"font-weight: bold\"> Total params: </span><span style=\"color: #00af00; text-decoration-color: #00af00\">140,549</span> (549.02 KB)\n",
              "</pre>\n"
            ]
          },
          "metadata": {}
        },
        {
          "output_type": "display_data",
          "data": {
            "text/plain": [
              "\u001b[1m Trainable params: \u001b[0m\u001b[38;5;34m46,849\u001b[0m (183.00 KB)\n"
            ],
            "text/html": [
              "<pre style=\"white-space:pre;overflow-x:auto;line-height:normal;font-family:Menlo,'DejaVu Sans Mono',consolas,'Courier New',monospace\"><span style=\"font-weight: bold\"> Trainable params: </span><span style=\"color: #00af00; text-decoration-color: #00af00\">46,849</span> (183.00 KB)\n",
              "</pre>\n"
            ]
          },
          "metadata": {}
        },
        {
          "output_type": "display_data",
          "data": {
            "text/plain": [
              "\u001b[1m Non-trainable params: \u001b[0m\u001b[38;5;34m0\u001b[0m (0.00 B)\n"
            ],
            "text/html": [
              "<pre style=\"white-space:pre;overflow-x:auto;line-height:normal;font-family:Menlo,'DejaVu Sans Mono',consolas,'Courier New',monospace\"><span style=\"font-weight: bold\"> Non-trainable params: </span><span style=\"color: #00af00; text-decoration-color: #00af00\">0</span> (0.00 B)\n",
              "</pre>\n"
            ]
          },
          "metadata": {}
        },
        {
          "output_type": "display_data",
          "data": {
            "text/plain": [
              "\u001b[1m Optimizer params: \u001b[0m\u001b[38;5;34m93,700\u001b[0m (366.02 KB)\n"
            ],
            "text/html": [
              "<pre style=\"white-space:pre;overflow-x:auto;line-height:normal;font-family:Menlo,'DejaVu Sans Mono',consolas,'Courier New',monospace\"><span style=\"font-weight: bold\"> Optimizer params: </span><span style=\"color: #00af00; text-decoration-color: #00af00\">93,700</span> (366.02 KB)\n",
              "</pre>\n"
            ]
          },
          "metadata": {}
        }
      ],
      "source": [
        "from tensorflow.keras.models import load_model\n",
        "\n",
        "# Google Drive'dan modeli yükleyin\n",
        "load_path = '/content/drive/My Drive/saved_models/my_model.keras'\n",
        "loaded_model = load_model(load_path)\n",
        "\n",
        "# Modelin özetini görüntüleyin\n",
        "loaded_model.summary()\n"
      ]
    },
    {
      "cell_type": "code",
      "execution_count": null,
      "metadata": {
        "id": "8Mns7rIfyAoL"
      },
      "outputs": [],
      "source": [
        "import tensorflow as tf\n",
        "import pandas as pd\n",
        "raw_dataset=pd.read_csv(\"Marmara2024_Pr100Day.csv\",sep=\",\")"
      ]
    },
    {
      "cell_type": "code",
      "execution_count": null,
      "metadata": {
        "colab": {
          "base_uri": "https://localhost:8080/",
          "height": 399
        },
        "id": "ps6Ejqfk5uTZ",
        "outputId": "e710f1e0-6897-4263-972c-3e634f930830"
      },
      "outputs": [
        {
          "output_type": "execute_result",
          "data": {
            "text/plain": [
              "                  Time  Max_Magnitude  Mean_Magnitude  Std_Magnitude  \\\n",
              "0  2024-04-12 10:20:45            4.9        2.459242       0.506009   \n",
              "1  2024-04-13 03:31:15            4.9        2.459716       0.505906   \n",
              "2  2024-04-13 12:45:20            4.9        2.458962       0.504825   \n",
              "3  2024-04-16 12:21:52            4.9        2.460190       0.505708   \n",
              "4  2024-04-17 04:09:43            4.9        2.458019       0.505498   \n",
              "\n",
              "   Mean_Depth  Earthquake_Frequency  Earthquake_Numbers  Mean_Energy  \\\n",
              "0   11.457820                  2.11                 211  1032.555735   \n",
              "1   11.423223                  2.11                 211  1032.590521   \n",
              "2   11.416038                  2.12                 212  1027.803679   \n",
              "3   11.426066                  2.11                 211  1032.615118   \n",
              "4   11.414623                  2.12                 212  1027.774057   \n",
              "\n",
              "     Std_Energy  Mean_b_value  Std_b_value  b_value_ratio  Total_Energy  \\\n",
              "0  10028.947801      1.479384     0.176730       0.119462     217869.26   \n",
              "1  10028.944277      1.482227     0.179285       0.120956     217876.60   \n",
              "2  10005.393541      1.484528     0.181970       0.122578     217894.38   \n",
              "3  10028.941770      1.487725     0.185042       0.124379     217881.79   \n",
              "4  10005.396570      1.489481     0.186365       0.125121     217888.10   \n",
              "\n",
              "   Energy_Density  Elapsed_Time  \n",
              "0     1032.555735     20.405000  \n",
              "1     1032.590521     17.175000  \n",
              "2     1027.803679      9.234722  \n",
              "3     1032.615118     71.608889  \n",
              "4     1027.774057     15.797500  "
            ],
            "text/html": [
              "\n",
              "  <div id=\"df-d099a569-be3e-4193-a6a0-dd8d02071bd8\" class=\"colab-df-container\">\n",
              "    <div>\n",
              "<style scoped>\n",
              "    .dataframe tbody tr th:only-of-type {\n",
              "        vertical-align: middle;\n",
              "    }\n",
              "\n",
              "    .dataframe tbody tr th {\n",
              "        vertical-align: top;\n",
              "    }\n",
              "\n",
              "    .dataframe thead th {\n",
              "        text-align: right;\n",
              "    }\n",
              "</style>\n",
              "<table border=\"1\" class=\"dataframe\">\n",
              "  <thead>\n",
              "    <tr style=\"text-align: right;\">\n",
              "      <th></th>\n",
              "      <th>Time</th>\n",
              "      <th>Max_Magnitude</th>\n",
              "      <th>Mean_Magnitude</th>\n",
              "      <th>Std_Magnitude</th>\n",
              "      <th>Mean_Depth</th>\n",
              "      <th>Earthquake_Frequency</th>\n",
              "      <th>Earthquake_Numbers</th>\n",
              "      <th>Mean_Energy</th>\n",
              "      <th>Std_Energy</th>\n",
              "      <th>Mean_b_value</th>\n",
              "      <th>Std_b_value</th>\n",
              "      <th>b_value_ratio</th>\n",
              "      <th>Total_Energy</th>\n",
              "      <th>Energy_Density</th>\n",
              "      <th>Elapsed_Time</th>\n",
              "    </tr>\n",
              "  </thead>\n",
              "  <tbody>\n",
              "    <tr>\n",
              "      <th>0</th>\n",
              "      <td>2024-04-12 10:20:45</td>\n",
              "      <td>4.9</td>\n",
              "      <td>2.459242</td>\n",
              "      <td>0.506009</td>\n",
              "      <td>11.457820</td>\n",
              "      <td>2.11</td>\n",
              "      <td>211</td>\n",
              "      <td>1032.555735</td>\n",
              "      <td>10028.947801</td>\n",
              "      <td>1.479384</td>\n",
              "      <td>0.176730</td>\n",
              "      <td>0.119462</td>\n",
              "      <td>217869.26</td>\n",
              "      <td>1032.555735</td>\n",
              "      <td>20.405000</td>\n",
              "    </tr>\n",
              "    <tr>\n",
              "      <th>1</th>\n",
              "      <td>2024-04-13 03:31:15</td>\n",
              "      <td>4.9</td>\n",
              "      <td>2.459716</td>\n",
              "      <td>0.505906</td>\n",
              "      <td>11.423223</td>\n",
              "      <td>2.11</td>\n",
              "      <td>211</td>\n",
              "      <td>1032.590521</td>\n",
              "      <td>10028.944277</td>\n",
              "      <td>1.482227</td>\n",
              "      <td>0.179285</td>\n",
              "      <td>0.120956</td>\n",
              "      <td>217876.60</td>\n",
              "      <td>1032.590521</td>\n",
              "      <td>17.175000</td>\n",
              "    </tr>\n",
              "    <tr>\n",
              "      <th>2</th>\n",
              "      <td>2024-04-13 12:45:20</td>\n",
              "      <td>4.9</td>\n",
              "      <td>2.458962</td>\n",
              "      <td>0.504825</td>\n",
              "      <td>11.416038</td>\n",
              "      <td>2.12</td>\n",
              "      <td>212</td>\n",
              "      <td>1027.803679</td>\n",
              "      <td>10005.393541</td>\n",
              "      <td>1.484528</td>\n",
              "      <td>0.181970</td>\n",
              "      <td>0.122578</td>\n",
              "      <td>217894.38</td>\n",
              "      <td>1027.803679</td>\n",
              "      <td>9.234722</td>\n",
              "    </tr>\n",
              "    <tr>\n",
              "      <th>3</th>\n",
              "      <td>2024-04-16 12:21:52</td>\n",
              "      <td>4.9</td>\n",
              "      <td>2.460190</td>\n",
              "      <td>0.505708</td>\n",
              "      <td>11.426066</td>\n",
              "      <td>2.11</td>\n",
              "      <td>211</td>\n",
              "      <td>1032.615118</td>\n",
              "      <td>10028.941770</td>\n",
              "      <td>1.487725</td>\n",
              "      <td>0.185042</td>\n",
              "      <td>0.124379</td>\n",
              "      <td>217881.79</td>\n",
              "      <td>1032.615118</td>\n",
              "      <td>71.608889</td>\n",
              "    </tr>\n",
              "    <tr>\n",
              "      <th>4</th>\n",
              "      <td>2024-04-17 04:09:43</td>\n",
              "      <td>4.9</td>\n",
              "      <td>2.458019</td>\n",
              "      <td>0.505498</td>\n",
              "      <td>11.414623</td>\n",
              "      <td>2.12</td>\n",
              "      <td>212</td>\n",
              "      <td>1027.774057</td>\n",
              "      <td>10005.396570</td>\n",
              "      <td>1.489481</td>\n",
              "      <td>0.186365</td>\n",
              "      <td>0.125121</td>\n",
              "      <td>217888.10</td>\n",
              "      <td>1027.774057</td>\n",
              "      <td>15.797500</td>\n",
              "    </tr>\n",
              "  </tbody>\n",
              "</table>\n",
              "</div>\n",
              "    <div class=\"colab-df-buttons\">\n",
              "\n",
              "  <div class=\"colab-df-container\">\n",
              "    <button class=\"colab-df-convert\" onclick=\"convertToInteractive('df-d099a569-be3e-4193-a6a0-dd8d02071bd8')\"\n",
              "            title=\"Convert this dataframe to an interactive table.\"\n",
              "            style=\"display:none;\">\n",
              "\n",
              "  <svg xmlns=\"http://www.w3.org/2000/svg\" height=\"24px\" viewBox=\"0 -960 960 960\">\n",
              "    <path d=\"M120-120v-720h720v720H120Zm60-500h600v-160H180v160Zm220 220h160v-160H400v160Zm0 220h160v-160H400v160ZM180-400h160v-160H180v160Zm440 0h160v-160H620v160ZM180-180h160v-160H180v160Zm440 0h160v-160H620v160Z\"/>\n",
              "  </svg>\n",
              "    </button>\n",
              "\n",
              "  <style>\n",
              "    .colab-df-container {\n",
              "      display:flex;\n",
              "      gap: 12px;\n",
              "    }\n",
              "\n",
              "    .colab-df-convert {\n",
              "      background-color: #E8F0FE;\n",
              "      border: none;\n",
              "      border-radius: 50%;\n",
              "      cursor: pointer;\n",
              "      display: none;\n",
              "      fill: #1967D2;\n",
              "      height: 32px;\n",
              "      padding: 0 0 0 0;\n",
              "      width: 32px;\n",
              "    }\n",
              "\n",
              "    .colab-df-convert:hover {\n",
              "      background-color: #E2EBFA;\n",
              "      box-shadow: 0px 1px 2px rgba(60, 64, 67, 0.3), 0px 1px 3px 1px rgba(60, 64, 67, 0.15);\n",
              "      fill: #174EA6;\n",
              "    }\n",
              "\n",
              "    .colab-df-buttons div {\n",
              "      margin-bottom: 4px;\n",
              "    }\n",
              "\n",
              "    [theme=dark] .colab-df-convert {\n",
              "      background-color: #3B4455;\n",
              "      fill: #D2E3FC;\n",
              "    }\n",
              "\n",
              "    [theme=dark] .colab-df-convert:hover {\n",
              "      background-color: #434B5C;\n",
              "      box-shadow: 0px 1px 3px 1px rgba(0, 0, 0, 0.15);\n",
              "      filter: drop-shadow(0px 1px 2px rgba(0, 0, 0, 0.3));\n",
              "      fill: #FFFFFF;\n",
              "    }\n",
              "  </style>\n",
              "\n",
              "    <script>\n",
              "      const buttonEl =\n",
              "        document.querySelector('#df-d099a569-be3e-4193-a6a0-dd8d02071bd8 button.colab-df-convert');\n",
              "      buttonEl.style.display =\n",
              "        google.colab.kernel.accessAllowed ? 'block' : 'none';\n",
              "\n",
              "      async function convertToInteractive(key) {\n",
              "        const element = document.querySelector('#df-d099a569-be3e-4193-a6a0-dd8d02071bd8');\n",
              "        const dataTable =\n",
              "          await google.colab.kernel.invokeFunction('convertToInteractive',\n",
              "                                                    [key], {});\n",
              "        if (!dataTable) return;\n",
              "\n",
              "        const docLinkHtml = 'Like what you see? Visit the ' +\n",
              "          '<a target=\"_blank\" href=https://colab.research.google.com/notebooks/data_table.ipynb>data table notebook</a>'\n",
              "          + ' to learn more about interactive tables.';\n",
              "        element.innerHTML = '';\n",
              "        dataTable['output_type'] = 'display_data';\n",
              "        await google.colab.output.renderOutput(dataTable, element);\n",
              "        const docLink = document.createElement('div');\n",
              "        docLink.innerHTML = docLinkHtml;\n",
              "        element.appendChild(docLink);\n",
              "      }\n",
              "    </script>\n",
              "  </div>\n",
              "\n",
              "\n",
              "<div id=\"df-85221ef7-e43f-4864-bd5d-d951b09bfad7\">\n",
              "  <button class=\"colab-df-quickchart\" onclick=\"quickchart('df-85221ef7-e43f-4864-bd5d-d951b09bfad7')\"\n",
              "            title=\"Suggest charts\"\n",
              "            style=\"display:none;\">\n",
              "\n",
              "<svg xmlns=\"http://www.w3.org/2000/svg\" height=\"24px\"viewBox=\"0 0 24 24\"\n",
              "     width=\"24px\">\n",
              "    <g>\n",
              "        <path d=\"M19 3H5c-1.1 0-2 .9-2 2v14c0 1.1.9 2 2 2h14c1.1 0 2-.9 2-2V5c0-1.1-.9-2-2-2zM9 17H7v-7h2v7zm4 0h-2V7h2v10zm4 0h-2v-4h2v4z\"/>\n",
              "    </g>\n",
              "</svg>\n",
              "  </button>\n",
              "\n",
              "<style>\n",
              "  .colab-df-quickchart {\n",
              "      --bg-color: #E8F0FE;\n",
              "      --fill-color: #1967D2;\n",
              "      --hover-bg-color: #E2EBFA;\n",
              "      --hover-fill-color: #174EA6;\n",
              "      --disabled-fill-color: #AAA;\n",
              "      --disabled-bg-color: #DDD;\n",
              "  }\n",
              "\n",
              "  [theme=dark] .colab-df-quickchart {\n",
              "      --bg-color: #3B4455;\n",
              "      --fill-color: #D2E3FC;\n",
              "      --hover-bg-color: #434B5C;\n",
              "      --hover-fill-color: #FFFFFF;\n",
              "      --disabled-bg-color: #3B4455;\n",
              "      --disabled-fill-color: #666;\n",
              "  }\n",
              "\n",
              "  .colab-df-quickchart {\n",
              "    background-color: var(--bg-color);\n",
              "    border: none;\n",
              "    border-radius: 50%;\n",
              "    cursor: pointer;\n",
              "    display: none;\n",
              "    fill: var(--fill-color);\n",
              "    height: 32px;\n",
              "    padding: 0;\n",
              "    width: 32px;\n",
              "  }\n",
              "\n",
              "  .colab-df-quickchart:hover {\n",
              "    background-color: var(--hover-bg-color);\n",
              "    box-shadow: 0 1px 2px rgba(60, 64, 67, 0.3), 0 1px 3px 1px rgba(60, 64, 67, 0.15);\n",
              "    fill: var(--button-hover-fill-color);\n",
              "  }\n",
              "\n",
              "  .colab-df-quickchart-complete:disabled,\n",
              "  .colab-df-quickchart-complete:disabled:hover {\n",
              "    background-color: var(--disabled-bg-color);\n",
              "    fill: var(--disabled-fill-color);\n",
              "    box-shadow: none;\n",
              "  }\n",
              "\n",
              "  .colab-df-spinner {\n",
              "    border: 2px solid var(--fill-color);\n",
              "    border-color: transparent;\n",
              "    border-bottom-color: var(--fill-color);\n",
              "    animation:\n",
              "      spin 1s steps(1) infinite;\n",
              "  }\n",
              "\n",
              "  @keyframes spin {\n",
              "    0% {\n",
              "      border-color: transparent;\n",
              "      border-bottom-color: var(--fill-color);\n",
              "      border-left-color: var(--fill-color);\n",
              "    }\n",
              "    20% {\n",
              "      border-color: transparent;\n",
              "      border-left-color: var(--fill-color);\n",
              "      border-top-color: var(--fill-color);\n",
              "    }\n",
              "    30% {\n",
              "      border-color: transparent;\n",
              "      border-left-color: var(--fill-color);\n",
              "      border-top-color: var(--fill-color);\n",
              "      border-right-color: var(--fill-color);\n",
              "    }\n",
              "    40% {\n",
              "      border-color: transparent;\n",
              "      border-right-color: var(--fill-color);\n",
              "      border-top-color: var(--fill-color);\n",
              "    }\n",
              "    60% {\n",
              "      border-color: transparent;\n",
              "      border-right-color: var(--fill-color);\n",
              "    }\n",
              "    80% {\n",
              "      border-color: transparent;\n",
              "      border-right-color: var(--fill-color);\n",
              "      border-bottom-color: var(--fill-color);\n",
              "    }\n",
              "    90% {\n",
              "      border-color: transparent;\n",
              "      border-bottom-color: var(--fill-color);\n",
              "    }\n",
              "  }\n",
              "</style>\n",
              "\n",
              "  <script>\n",
              "    async function quickchart(key) {\n",
              "      const quickchartButtonEl =\n",
              "        document.querySelector('#' + key + ' button');\n",
              "      quickchartButtonEl.disabled = true;  // To prevent multiple clicks.\n",
              "      quickchartButtonEl.classList.add('colab-df-spinner');\n",
              "      try {\n",
              "        const charts = await google.colab.kernel.invokeFunction(\n",
              "            'suggestCharts', [key], {});\n",
              "      } catch (error) {\n",
              "        console.error('Error during call to suggestCharts:', error);\n",
              "      }\n",
              "      quickchartButtonEl.classList.remove('colab-df-spinner');\n",
              "      quickchartButtonEl.classList.add('colab-df-quickchart-complete');\n",
              "    }\n",
              "    (() => {\n",
              "      let quickchartButtonEl =\n",
              "        document.querySelector('#df-85221ef7-e43f-4864-bd5d-d951b09bfad7 button');\n",
              "      quickchartButtonEl.style.display =\n",
              "        google.colab.kernel.accessAllowed ? 'block' : 'none';\n",
              "    })();\n",
              "  </script>\n",
              "</div>\n",
              "\n",
              "    </div>\n",
              "  </div>\n"
            ],
            "application/vnd.google.colaboratory.intrinsic+json": {
              "type": "dataframe",
              "variable_name": "Marmara2024_Pr100Day",
              "summary": "{\n  \"name\": \"Marmara2024_Pr100Day\",\n  \"rows\": 223,\n  \"fields\": [\n    {\n      \"column\": \"Time\",\n      \"properties\": {\n        \"dtype\": \"object\",\n        \"num_unique_values\": 223,\n        \"samples\": [\n          \"2024-04-18 06:50:41\",\n          \"2024-06-29 05:58:02\",\n          \"2024-08-05 15:04:55\"\n        ],\n        \"semantic_type\": \"\",\n        \"description\": \"\"\n      }\n    },\n    {\n      \"column\": \"Max_Magnitude\",\n      \"properties\": {\n        \"dtype\": \"number\",\n        \"std\": 0.38560166467580465,\n        \"min\": 3.7,\n        \"max\": 4.9,\n        \"num_unique_values\": 7,\n        \"samples\": [\n          4.9,\n          3.7,\n          3.8\n        ],\n        \"semantic_type\": \"\",\n        \"description\": \"\"\n      }\n    },\n    {\n      \"column\": \"Mean_Magnitude\",\n      \"properties\": {\n        \"dtype\": \"number\",\n        \"std\": 0.034842476599099996,\n        \"min\": 2.3421875,\n        \"max\": 2.487628865979381,\n        \"num_unique_values\": 214,\n        \"samples\": [\n          2.4479069767441857,\n          2.372727272727273,\n          2.401652892561984\n        ],\n        \"semantic_type\": \"\",\n        \"description\": \"\"\n      }\n    },\n    {\n      \"column\": \"Std_Magnitude\",\n      \"properties\": {\n        \"dtype\": \"number\",\n        \"std\": 0.049258941918987484,\n        \"min\": 0.3336610781332734,\n        \"max\": 0.5155182382362198,\n        \"num_unique_values\": 220,\n        \"samples\": [\n          0.4949090462748118,\n          0.4808354699280131,\n          0.4317737502773546\n        ],\n        \"semantic_type\": \"\",\n        \"description\": \"\"\n      }\n    },\n    {\n      \"column\": \"Mean_Depth\",\n      \"properties\": {\n        \"dtype\": \"number\",\n        \"std\": 0.5163982557592148,\n        \"min\": 9.81609375,\n        \"max\": 12.31264367816092,\n        \"num_unique_values\": 223,\n        \"samples\": [\n          11.546046511627903,\n          12.114285714285716,\n          11.98316831683168\n        ],\n        \"semantic_type\": \"\",\n        \"description\": \"\"\n      }\n    },\n    {\n      \"column\": \"Earthquake_Frequency\",\n      \"properties\": {\n        \"dtype\": \"number\",\n        \"std\": 0.4922703744909113,\n        \"min\": 0.6,\n        \"max\": 2.16,\n        \"num_unique_values\": 82,\n        \"samples\": [\n          1.49,\n          2.11,\n          1.64\n        ],\n        \"semantic_type\": \"\",\n        \"description\": \"\"\n      }\n    },\n    {\n      \"column\": \"Earthquake_Numbers\",\n      \"properties\": {\n        \"dtype\": \"number\",\n        \"std\": 49,\n        \"min\": 60,\n        \"max\": 216,\n        \"num_unique_values\": 82,\n        \"samples\": [\n          149,\n          211,\n          164\n        ],\n        \"semantic_type\": \"\",\n        \"description\": \"\"\n      }\n    },\n    {\n      \"column\": \"Mean_Energy\",\n      \"properties\": {\n        \"dtype\": \"number\",\n        \"std\": 396.3445670474244,\n        \"min\": 71.73910447761193,\n        \"max\": 1333.169677419355,\n        \"num_unique_values\": 216,\n        \"samples\": [\n          102.29935483870968,\n          493.84476923076926,\n          484.5113000000001\n        ],\n        \"semantic_type\": \"\",\n        \"description\": \"\"\n      }\n    },\n    {\n      \"column\": \"Std_Energy\",\n      \"properties\": {\n        \"dtype\": \"number\",\n        \"std\": 4294.002569204528,\n        \"min\": 275.46296180801085,\n        \"max\": 12889.523898990292,\n        \"num_unique_values\": 218,\n        \"samples\": [\n          2198.6065415926582,\n          3122.986384127232,\n          2255.5803613113\n        ],\n        \"semantic_type\": \"\",\n        \"description\": \"\"\n      }\n    },\n    {\n      \"column\": \"Mean_b_value\",\n      \"properties\": {\n        \"dtype\": \"number\",\n        \"std\": 0.10606547760364894,\n        \"min\": 1.4743750000000002,\n        \"max\": 1.8176190476190477,\n        \"num_unique_values\": 223,\n        \"samples\": [\n          1.497767441860465,\n          1.7123214285714283,\n          1.5426732673267325\n        ],\n        \"semantic_type\": \"\",\n        \"description\": \"\"\n      }\n    },\n    {\n      \"column\": \"Std_b_value\",\n      \"properties\": {\n        \"dtype\": \"number\",\n        \"std\": 0.051108086503584595,\n        \"min\": 0.0612823853482243,\n        \"max\": 0.2524074614634634,\n        \"num_unique_values\": 223,\n        \"samples\": [\n          0.1919663177729707,\n          0.1819958525557391,\n          0.2030955001427107\n        ],\n        \"semantic_type\": \"\",\n        \"description\": \"\"\n      }\n    },\n    {\n      \"column\": \"b_value_ratio\",\n      \"properties\": {\n        \"dtype\": \"number\",\n        \"std\": 0.03450860213736022,\n        \"min\": 0.0337614931762619,\n        \"max\": 0.1593193156005871,\n        \"num_unique_values\": 223,\n        \"samples\": [\n          0.1281683073137964,\n          0.1062860334041234,\n          0.131651662373492\n        ],\n        \"semantic_type\": \"\",\n        \"description\": \"\"\n      }\n    },\n    {\n      \"column\": \"Total_Energy\",\n      \"properties\": {\n        \"dtype\": \"number\",\n        \"std\": 82572.06436766806,\n        \"min\": 4602.9800000000005,\n        \"max\": 217941.03,\n        \"num_unique_values\": 216,\n        \"samples\": [\n          6342.56,\n          32099.910000000003,\n          48451.13000000001\n        ],\n        \"semantic_type\": \"\",\n        \"description\": \"\"\n      }\n    },\n    {\n      \"column\": \"Energy_Density\",\n      \"properties\": {\n        \"dtype\": \"number\",\n        \"std\": 396.3445670474244,\n        \"min\": 71.73910447761193,\n        \"max\": 1333.169677419355,\n        \"num_unique_values\": 216,\n        \"samples\": [\n          102.29935483870968,\n          493.84476923076926,\n          484.5113000000001\n        ],\n        \"semantic_type\": \"\",\n        \"description\": \"\"\n      }\n    },\n    {\n      \"column\": \"Elapsed_Time\",\n      \"properties\": {\n        \"dtype\": \"number\",\n        \"std\": 30.44247808671589,\n        \"min\": 0.0069444444444444,\n        \"max\": 198.3,\n        \"num_unique_values\": 223,\n        \"samples\": [\n          13.106388888888889,\n          3.0344444444444445,\n          12.206388888888888\n        ],\n        \"semantic_type\": \"\",\n        \"description\": \"\"\n      }\n    }\n  ]\n}"
            }
          },
          "metadata": {},
          "execution_count": 71
        }
      ],
      "source": [
        "Marmara2024_Pr100Day = raw_dataset.copy()\n",
        "Marmara2024_Pr100Day.head()"
      ]
    },
    {
      "cell_type": "code",
      "execution_count": null,
      "metadata": {
        "colab": {
          "base_uri": "https://localhost:8080/"
        },
        "id": "enjmopz3yAho",
        "outputId": "61b9ad7e-fb56-4d0a-b1ee-be7ccfe3c2a5"
      },
      "outputs": [
        {
          "output_type": "execute_result",
          "data": {
            "text/plain": [
              "(223, 15)"
            ]
          },
          "metadata": {},
          "execution_count": 72
        }
      ],
      "source": [
        "Marmara2024_Pr100Day.shape"
      ]
    },
    {
      "cell_type": "code",
      "execution_count": null,
      "metadata": {
        "id": "K9rOykt5RclH"
      },
      "outputs": [],
      "source": [
        "X_new =Marmara2024_Pr100Day.iloc[:, 1:14].values"
      ]
    },
    {
      "cell_type": "code",
      "execution_count": null,
      "metadata": {
        "colab": {
          "base_uri": "https://localhost:8080/"
        },
        "id": "_t4W02mGReQa",
        "outputId": "eac834b5-d119-4cd4-db05-d09d3ac73e02"
      },
      "outputs": [
        {
          "output_type": "execute_result",
          "data": {
            "text/plain": [
              "array([[     4.9       ,      2.45924171,      0.50600903, ...,\n",
              "             0.11946177, 217869.26      ,   1032.5557346 ],\n",
              "       [     4.9       ,      2.45971564,      0.50590599, ...,\n",
              "             0.12095646, 217876.6       ,   1032.59052133],\n",
              "       [     4.9       ,      2.45896226,      0.50482493, ...,\n",
              "             0.12257759, 217894.38      ,   1027.80367925],\n",
              "       ...,\n",
              "       [     4.4       ,      2.38615385,      0.46195134, ...,\n",
              "             0.03401108,  32099.91      ,    493.84476923],\n",
              "       [     4.4       ,      2.3968254 ,      0.46592546, ...,\n",
              "             0.03389607,  32088.35      ,    509.33888889],\n",
              "       [     4.4       ,      2.39375   ,      0.46286719, ...,\n",
              "             0.03443142,  32100.94      ,    501.5771875 ]])"
            ]
          },
          "metadata": {},
          "execution_count": 74
        }
      ],
      "source": [
        "X_new"
      ]
    },
    {
      "cell_type": "code",
      "execution_count": null,
      "metadata": {
        "id": "yYxzQNlxReT5"
      },
      "outputs": [],
      "source": [
        "from sklearn.preprocessing import StandardScaler\n",
        "\n",
        "sc = StandardScaler()\n",
        "\n",
        "# Fit the scaler to your data\n",
        "sc.fit(X_new)\n",
        "\n",
        "# Transform your data\n",
        "X_new = sc.transform(X_new)\n"
      ]
    },
    {
      "cell_type": "code",
      "execution_count": null,
      "metadata": {
        "colab": {
          "base_uri": "https://localhost:8080/"
        },
        "id": "Ueae3sgoReW7",
        "outputId": "dd1b6fbb-9039-4062-8a06-d07a2b9b7abd"
      },
      "outputs": [
        {
          "output_type": "execute_result",
          "data": {
            "text/plain": [
              "array([[ 1.30541982,  1.01482143,  0.96628545, ...,  0.25021141,\n",
              "         1.61718568,  1.14990798],\n",
              "       [ 1.30541982,  1.02845421,  0.96418899, ...,  0.29362254,\n",
              "         1.61727477,  1.14999595],\n",
              "       [ 1.30541982,  1.00678323,  0.94219307, ...,  0.34070574,\n",
              "         1.61749058,  1.1378913 ],\n",
              "       ...,\n",
              "       [ 0.00582777, -1.08756321,  0.06986327, ..., -2.23157366,\n",
              "        -0.6376602 , -0.2123484 ],\n",
              "       [ 0.00582777, -0.78059425,  0.15072295, ..., -2.23491388,\n",
              "        -0.63780052, -0.1731679 ],\n",
              "       [ 0.00582777, -0.86905856,  0.08849763, ..., -2.21936555,\n",
              "        -0.6376477 , -0.19279517]])"
            ]
          },
          "metadata": {},
          "execution_count": 76
        }
      ],
      "source": [
        "X_new"
      ]
    },
    {
      "cell_type": "code",
      "execution_count": null,
      "metadata": {
        "colab": {
          "base_uri": "https://localhost:8080/"
        },
        "id": "7SZQ_OnmReaJ",
        "outputId": "edfc1890-20b4-41b4-b4a5-aa310b05b3e8"
      },
      "outputs": [
        {
          "output_type": "stream",
          "name": "stdout",
          "text": [
            "\u001b[1m7/7\u001b[0m \u001b[32m━━━━━━━━━━━━━━━━━━━━\u001b[0m\u001b[37m\u001b[0m \u001b[1m0s\u001b[0m 8ms/step \n",
            "[[4.4590526]\n",
            " [4.4664783]\n",
            " [4.454427 ]\n",
            " [4.474298 ]\n",
            " [4.452442 ]\n",
            " [4.4428015]\n",
            " [4.4287333]\n",
            " [4.409693 ]\n",
            " [4.4005413]\n",
            " [4.457918 ]\n",
            " [4.479157 ]\n",
            " [4.4657707]\n",
            " [4.4250393]\n",
            " [4.455633 ]\n",
            " [4.539295 ]\n",
            " [4.5146136]\n",
            " [4.534255 ]\n",
            " [4.5461144]\n",
            " [4.5593014]\n",
            " [4.552394 ]\n",
            " [4.568336 ]\n",
            " [4.550352 ]\n",
            " [4.5365605]\n",
            " [4.524192 ]\n",
            " [4.529688 ]\n",
            " [4.5115404]\n",
            " [4.527196 ]\n",
            " [4.535763 ]\n",
            " [4.4571176]\n",
            " [4.462824 ]\n",
            " [4.394741 ]\n",
            " [4.393442 ]\n",
            " [4.3538895]\n",
            " [4.3376236]\n",
            " [4.3009233]\n",
            " [4.3400297]\n",
            " [4.307996 ]\n",
            " [4.291088 ]\n",
            " [4.2606287]\n",
            " [4.2742586]\n",
            " [4.6251497]\n",
            " [4.6038237]\n",
            " [4.578353 ]\n",
            " [4.644974 ]\n",
            " [4.6359377]\n",
            " [4.680636 ]\n",
            " [4.6710353]\n",
            " [4.666463 ]\n",
            " [4.7166185]\n",
            " [4.6918216]\n",
            " [4.681484 ]\n",
            " [4.61008  ]\n",
            " [4.596981 ]\n",
            " [4.702767 ]\n",
            " [4.836051 ]\n",
            " [4.874816 ]\n",
            " [4.798237 ]\n",
            " [4.717077 ]\n",
            " [4.7120247]\n",
            " [4.7912693]\n",
            " [4.000914 ]\n",
            " [4.1673884]\n",
            " [4.258686 ]\n",
            " [4.3805737]\n",
            " [4.537542 ]\n",
            " [4.843189 ]\n",
            " [4.9266825]\n",
            " [4.947696 ]\n",
            " [5.0118113]\n",
            " [4.1102057]\n",
            " [3.9492507]\n",
            " [4.031295 ]\n",
            " [3.9135075]\n",
            " [4.0264406]\n",
            " [3.9167137]\n",
            " [4.141151 ]\n",
            " [4.1269703]\n",
            " [4.106802 ]\n",
            " [3.7640026]\n",
            " [3.8599494]\n",
            " [4.105617 ]\n",
            " [3.6286137]\n",
            " [3.8850498]\n",
            " [3.7496915]\n",
            " [3.8799953]\n",
            " [4.1594477]\n",
            " [4.258506 ]\n",
            " [3.7940168]\n",
            " [4.0048676]\n",
            " [4.305955 ]\n",
            " [4.259609 ]\n",
            " [4.2611747]\n",
            " [4.22596  ]\n",
            " [4.271221 ]\n",
            " [4.335393 ]\n",
            " [4.346795 ]\n",
            " [4.416911 ]\n",
            " [4.3384733]\n",
            " [4.3343534]\n",
            " [4.3215494]\n",
            " [4.349178 ]\n",
            " [4.330066 ]\n",
            " [4.0491486]\n",
            " [3.9437532]\n",
            " [3.5776696]\n",
            " [3.5373569]\n",
            " [3.5184965]\n",
            " [4.634033 ]\n",
            " [4.862107 ]\n",
            " [4.8125257]\n",
            " [4.775401 ]\n",
            " [4.738133 ]\n",
            " [3.7730985]\n",
            " [3.8215413]\n",
            " [3.7818632]\n",
            " [3.7794147]\n",
            " [3.7797732]\n",
            " [3.7171738]\n",
            " [3.6947203]\n",
            " [3.6626196]\n",
            " [3.647584 ]\n",
            " [3.6220193]\n",
            " [3.6759496]\n",
            " [3.664716 ]\n",
            " [3.654214 ]\n",
            " [3.6510744]\n",
            " [3.64377  ]\n",
            " [3.7079594]\n",
            " [3.6636724]\n",
            " [3.6454015]\n",
            " [3.6293273]\n",
            " [3.608171 ]\n",
            " [3.6307464]\n",
            " [3.6259625]\n",
            " [3.598856 ]\n",
            " [3.6048186]\n",
            " [3.5964947]\n",
            " [3.639213 ]\n",
            " [3.6197793]\n",
            " [3.715654 ]\n",
            " [3.6978145]\n",
            " [3.6711285]\n",
            " [3.6465423]\n",
            " [3.7170017]\n",
            " [3.7425368]\n",
            " [3.7411528]\n",
            " [3.772677 ]\n",
            " [3.7484171]\n",
            " [3.6258304]\n",
            " [3.773705 ]\n",
            " [3.7172592]\n",
            " [3.7566085]\n",
            " [3.7390518]\n",
            " [3.455127 ]\n",
            " [3.4817913]\n",
            " [3.6243613]\n",
            " [3.7074327]\n",
            " [3.7129035]\n",
            " [3.6289973]\n",
            " [3.664093 ]\n",
            " [3.71725  ]\n",
            " [3.7347476]\n",
            " [4.0385838]\n",
            " [3.9982631]\n",
            " [3.9603548]\n",
            " [4.368866 ]\n",
            " [4.3206897]\n",
            " [4.4346433]\n",
            " [3.6338992]\n",
            " [3.6601098]\n",
            " [3.6664023]\n",
            " [3.6786783]\n",
            " [3.6591444]\n",
            " [3.4558845]\n",
            " [3.4814851]\n",
            " [3.4747572]\n",
            " [4.021428 ]\n",
            " [4.592616 ]\n",
            " [5.0236363]\n",
            " [3.7559223]\n",
            " [5.040625 ]\n",
            " [4.9965878]\n",
            " [5.147162 ]\n",
            " [4.8784084]\n",
            " [4.7236047]\n",
            " [4.450578 ]\n",
            " [4.384139 ]\n",
            " [4.131052 ]\n",
            " [3.7924275]\n",
            " [3.761058 ]\n",
            " [3.8715897]\n",
            " [3.7546914]\n",
            " [3.7515209]\n",
            " [4.0396466]\n",
            " [4.850864 ]\n",
            " [4.8378997]\n",
            " [4.7044797]\n",
            " [4.5865507]\n",
            " [4.5390816]\n",
            " [4.5803757]\n",
            " [4.508585 ]\n",
            " [4.482532 ]\n",
            " [4.7340884]\n",
            " [4.7973723]\n",
            " [4.707284 ]\n",
            " [5.082304 ]\n",
            " [5.344453 ]\n",
            " [4.416938 ]\n",
            " [4.4345417]\n",
            " [3.630968 ]\n",
            " [3.7025268]\n",
            " [3.7020392]\n",
            " [3.6999936]\n",
            " [3.6928406]\n",
            " [3.646245 ]\n",
            " [3.5697603]\n",
            " [3.558558 ]\n",
            " [3.5207977]\n",
            " [3.5400367]\n",
            " [3.6963887]\n",
            " [3.6729746]\n",
            " [3.7049885]\n",
            " [3.7045484]]\n"
          ]
        }
      ],
      "source": [
        "print(model.predict(X_new))"
      ]
    }
  ],
  "metadata": {
    "accelerator": "GPU",
    "colab": {
      "gpuType": "A100",
      "machine_shape": "hm",
      "provenance": []
    },
    "kernelspec": {
      "display_name": "Python 3",
      "name": "python3"
    },
    "language_info": {
      "codemirror_mode": {
        "name": "ipython",
        "version": 3
      },
      "file_extension": ".py",
      "mimetype": "text/x-python",
      "name": "python",
      "nbconvert_exporter": "python",
      "pygments_lexer": "ipython3",
      "version": "3.12.4"
    }
  },
  "nbformat": 4,
  "nbformat_minor": 0
}